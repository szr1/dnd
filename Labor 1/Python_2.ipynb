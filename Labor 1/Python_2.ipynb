{
 "cells": [
  {
   "cell_type": "markdown",
   "metadata": {
    "id": "cLUOQVCcL439"
   },
   "source": [
    "\n",
    "**Created by:**\n",
    "\n",
    "__[Viktor Varga](https://github.com/vvarga90)__\n",
    "\n",
    "**Translated by:**\n",
    "\n",
    "__Gulyás János Adrián__\n",
    "\n",
    "<br>\n",
    "\n",
    "<img src=\"https://docs.google.com/uc?export=download&id=1WzgXsCoz8O-NeBlJTbuLPC1iIFDmgYt1\" style=\"display:inline-block\">\n",
    "<hr>"
   ]
  },
  {
   "cell_type": "markdown",
   "metadata": {
    "id": "bg-N-ivOMFrq"
   },
   "source": [
    "# Python tutorial - Chapter 2"
   ]
  },
  {
   "cell_type": "markdown",
   "metadata": {
    "id": "MG7hgaGgMojh"
   },
   "source": [
    "## Functions\n",
    "\n",
    "Documentation: https://docs.python.org/3.6/tutorial/controlflow.html#defining-functions - Chapters 4.6 and 4.7"
   ]
  },
  {
   "cell_type": "markdown",
   "metadata": {
    "id": "AStdPF0SW21G"
   },
   "source": [
    "### Simple functions, `return`"
   ]
  },
  {
   "cell_type": "code",
   "execution_count": 1,
   "metadata": {
    "colab": {
     "base_uri": "https://localhost:8080/",
     "height": 129
    },
    "id": "56FNVwjrNT_y",
    "outputId": "9af3572e-5ab6-4540-d700-765b84c1ed59"
   },
   "outputs": [
    {
     "name": "stdout",
     "output_type": "stream",
     "text": [
      "What do they return? \n",
      "print this!\n",
      "If no return statement, then returns None:  None\n",
      "Return number argument*2:  4\n",
      "Return string argument*2:  twotwo\n",
      "Swap arguments:  ('second', 'first')\n",
      "<class 'tuple'>\n"
     ]
    }
   ],
   "source": [
    "def procedure1(my_param): # if no return statement, returns None in the end\n",
    "    print(my_param)\n",
    "\n",
    "def function_double(my_param): # type of 'my_param' is not restricted\n",
    "    return my_param*2\n",
    "\n",
    "def function_swap(arg1, arg2): # Multiple returns: returns a tuple with a length of 2\n",
    "    return arg2, arg1\n",
    "    \n",
    "print(\"What do they return? \")\n",
    "print(\"If no return statement, then returns None: \", procedure1(\"print this!\"))\n",
    "print(\"Return number argument*2: \", function_double(2))\n",
    "print(\"Return string argument*2: \", function_double(\"two\"))\n",
    "print(\"Swap arguments: \", function_swap(\"first\", \"second\"))\n",
    "\n",
    "result = function_swap(\"first\", \"second\")\n",
    "print(type(result))\n"
   ]
  },
  {
   "cell_type": "markdown",
   "metadata": {
    "id": "9ub94cdVXEDa"
   },
   "source": [
    "### Optional parameters"
   ]
  },
  {
   "cell_type": "code",
   "execution_count": 2,
   "metadata": {},
   "outputs": [
    {
     "name": "stdout",
     "output_type": "stream",
     "text": [
      "000\n",
      "001\n",
      "002\n",
      "003\n",
      "004\n",
      "005\n",
      "006\n",
      "007\n",
      "008\n",
      "009\n"
     ]
    }
   ],
   "source": [
    "for i in range (0,10):\n",
    "    print(str(i).zfill(3))"
   ]
  },
  {
   "cell_type": "code",
   "execution_count": 3,
   "metadata": {
    "colab": {
     "base_uri": "https://localhost:8080/",
     "height": 126
    },
    "id": "HnhlEGSG-9Z2",
    "outputId": "5c5e51a6-6980-4cd9-ebcb-32763a7d8d05"
   },
   "outputs": [
    {
     "name": "stdout",
     "output_type": "stream",
     "text": [
      "Calling increment with one argument:  6\n",
      "Calling increment with two arguments:  7\n",
      "\n",
      "Only year is given:  1962.01.01\n",
      "Year & month are given:  1962.05.01\n",
      "Year & day are given:  1962.01.10\n"
     ]
    }
   ],
   "source": [
    "def increment(n, increment_by=1):  # parameters with default values must be in the back\n",
    "    return n+increment_by\n",
    "\n",
    "print(\"Calling increment with one argument: \", increment(5))\n",
    "print(\"Calling increment with two arguments: \", increment(5, 2))\n",
    "\n",
    "def date_to_str(year, month=1, day=1):  # parameters with default values must be in the back\n",
    "    return str(year) + \".\" + str(month).zfill(2) + \".\" + str(day).zfill(2)\n",
    "\n",
    "print(\"\\nOnly year is given: \", date_to_str(1962))\n",
    "print(\"Year & month are given: \", date_to_str(1962, 5))\n",
    "print(\"Year & day are given: \", date_to_str(1962, day=10))\n"
   ]
  },
  {
   "cell_type": "code",
   "execution_count": 4,
   "metadata": {
    "colab": {
     "base_uri": "https://localhost:8080/",
     "height": 36
    },
    "id": "jBcQ9PtBI1Od",
    "outputId": "1d4cb0cf-5f9b-4898-9368-eb6f3da6cba6"
   },
   "outputs": [
    {
     "data": {
      "text/plain": [
       "[2, 3, 5, 1]"
      ]
     },
     "execution_count": 4,
     "metadata": {},
     "output_type": "execute_result"
    }
   ],
   "source": [
    "def append_1(arr=[]): \n",
    "    arr.append(1)\n",
    "    return arr\n",
    "\n",
    "a = [2, 3, 5]\n",
    "append_1(a)"
   ]
  },
  {
   "cell_type": "code",
   "execution_count": 5,
   "metadata": {
    "colab": {
     "base_uri": "https://localhost:8080/",
     "height": 36
    },
    "id": "7UkaoYsdJEBW",
    "outputId": "3f54bdbf-6f44-4e99-8b2c-b7c448433e37"
   },
   "outputs": [
    {
     "data": {
      "text/plain": [
       "[1]"
      ]
     },
     "execution_count": 5,
     "metadata": {},
     "output_type": "execute_result"
    }
   ],
   "source": [
    "append_1()"
   ]
  },
  {
   "cell_type": "code",
   "execution_count": 6,
   "metadata": {
    "colab": {
     "base_uri": "https://localhost:8080/",
     "height": 36
    },
    "id": "GgJUADVZJSUw",
    "outputId": "7f38afd2-4cc8-420a-a575-99ff2de0600d"
   },
   "outputs": [
    {
     "data": {
      "text/plain": [
       "[1, 1]"
      ]
     },
     "execution_count": 6,
     "metadata": {},
     "output_type": "execute_result"
    }
   ],
   "source": [
    "append_1()"
   ]
  },
  {
   "cell_type": "markdown",
   "metadata": {
    "id": "GdnjbteWAgCc"
   },
   "source": [
    "### Recursion"
   ]
  },
  {
   "cell_type": "code",
   "execution_count": 7,
   "metadata": {
    "colab": {
     "base_uri": "https://localhost:8080/",
     "height": 72
    },
    "id": "TbAK-Fsz_KyO",
    "outputId": "e410e342-d912-4f7e-c82d-bab8e91b22c0"
   },
   "outputs": [
    {
     "name": "stdout",
     "output_type": "stream",
     "text": [
      "Factorial implemented with a loop:  720\n",
      "Factorial implemented in a recursive way:  720\n",
      "Factorial implemented in a recursive way, shorter version:  720\n"
     ]
    }
   ],
   "source": [
    "def factorial(n):\n",
    "    product = 1\n",
    "    for i in range(1,n+1):\n",
    "        product *= i\n",
    "    return product\n",
    "\n",
    "print(\"Factorial implemented with a loop: \", factorial(6))\n",
    "\n",
    "def factorial_rec(n):\n",
    "    if n <= 0:\n",
    "        return 1\n",
    "    else:\n",
    "        return n*factorial_rec(n-1)\n",
    "\n",
    "print(\"Factorial implemented in a recursive way: \", factorial_rec(6))\n",
    "\n",
    "def factorial_rec2(n):\n",
    "    return 1 if n <= 0 else n*factorial_rec(n-1)\n",
    "\n",
    "print(\"Factorial implemented in a recursive way, shorter version: \", factorial_rec2(6))"
   ]
  },
  {
   "cell_type": "markdown",
   "metadata": {
    "id": "OwvRlfYNAjiI"
   },
   "source": [
    "### Nested function"
   ]
  },
  {
   "cell_type": "code",
   "execution_count": 8,
   "metadata": {
    "colab": {
     "base_uri": "https://localhost:8080/",
     "height": 53
    },
    "id": "ZAw2tOKMNOOW",
    "outputId": "ed4f42b6-957e-4303-c3f9-c0d39d8bdd5f"
   },
   "outputs": [
    {
     "name": "stdout",
     "output_type": "stream",
     "text": [
      "Nested absolute value function:  3.5\n",
      "Nested absolute value function:  2\n"
     ]
    }
   ],
   "source": [
    "def absolute(x):\n",
    "    def absolute_positive(x):  # functions can be defined in functions, to any level of depth\n",
    "        return x\n",
    "      \n",
    "    def absolute_negative(x):\n",
    "        return -x\n",
    "    \n",
    "    if x < 0:\n",
    "        return absolute_negative(x)\n",
    "    else:\n",
    "        return absolute_positive(x)\n",
    "\n",
    "\n",
    "print(\"Nested absolute value function: \", absolute(-3.5))\n",
    "print(\"Nested absolute value function: \", absolute(2))\n",
    "\n"
   ]
  },
  {
   "cell_type": "markdown",
   "metadata": {
    "id": "SFFu_mb6XoWV"
   },
   "source": [
    "### Passing function as an argument"
   ]
  },
  {
   "cell_type": "code",
   "execution_count": 9,
   "metadata": {
    "colab": {
     "base_uri": "https://localhost:8080/",
     "height": 92
    },
    "id": "bYSs7-MpDDMV",
    "outputId": "258c8ded-907c-42aa-e062-4a208b96a5f1"
   },
   "outputs": [
    {
     "name": "stdout",
     "output_type": "stream",
     "text": [
      "7\n",
      "Applying addition() twice:  9\n",
      "Applying multiplication() twice:  24\n",
      "Applying built-in max() function twice:  4\n"
     ]
    }
   ],
   "source": [
    "def addition(a, b):\n",
    "    return a+b\n",
    "\n",
    "def multiplication(a, b):\n",
    "    return a*b\n",
    "\n",
    "def apply_twice(func, a, b, c):\n",
    "    return func(func(a, b), c)\n",
    "\n",
    "a = addition\n",
    "print(a(3,4))\n",
    "print(\"Applying addition() twice: \", apply_twice(addition, 2, 3, 4))\n",
    "print(\"Applying multiplication() twice: \", apply_twice(multiplication, 2, 3, 4))\n",
    "print(\"Applying built-in max() function twice: \", apply_twice(max, 2, 3, 4))\n"
   ]
  },
  {
   "cell_type": "markdown",
   "metadata": {
    "id": "MAiCCTXLA9A1"
   },
   "source": [
    "### Anonymous functions (`lambda`)"
   ]
  },
  {
   "cell_type": "code",
   "execution_count": 10,
   "metadata": {
    "colab": {
     "base_uri": "https://localhost:8080/",
     "height": 129
    },
    "id": "i_EEZUsBWuka",
    "outputId": "cbdd4d53-929a-4457-cad8-70d557174be8"
   },
   "outputs": [
    {
     "name": "stdout",
     "output_type": "stream",
     "text": [
      "Same as previous functions but defined in lambda form: \n",
      "9\n",
      "24\n",
      "4\n",
      "\n",
      "Negate:  <function <lambda> at 0x000001F31A044B80>\n"
     ]
    }
   ],
   "source": [
    "additionL = lambda x, y: x+y\n",
    "multiplicationL = lambda x, y: x*y\n",
    "\n",
    "apply_twiceL = lambda f, x, y, z: f(f(x, y), z)\n",
    "\n",
    "print(\"Same as previous functions but defined in lambda form: \")\n",
    "print(apply_twiceL(additionL, 2, 3, 4))\n",
    "print(apply_twiceL(multiplicationL, 2, 3, 4))\n",
    "print(apply_twiceL(max, 2, 3, 4))\n",
    "\n",
    "print(\"\\nNegate: \", lambda x: -x(5.3))"
   ]
  },
  {
   "cell_type": "markdown",
   "metadata": {
    "id": "B4bQI2hPRDER"
   },
   "source": [
    "## Data structures\n",
    "\n",
    "We discussed the `list` type in the previous chapter.\n",
    "\n",
    "We will discuss the `tuple`, `set`, `dict` types below.\n",
    "\n",
    "Documentation: https://docs.python.org/3.6/tutorial/datastructures.html\n",
    "\n",
    "Other built-in container types can be found in the `collections` module: https://docs.python.org/3/library/collections.html\n",
    "\n"
   ]
  },
  {
   "cell_type": "markdown",
   "metadata": {
    "id": "vVUk7xH8R98T"
   },
   "source": [
    " ### `tuple` type\n",
    "\n",
    "Immutable type (its state cannot be modified after it's created)."
   ]
  },
  {
   "cell_type": "code",
   "execution_count": 30,
   "metadata": {
    "colab": {
     "base_uri": "https://localhost:8080/",
     "height": 162
    },
    "id": "bXTvolBXR5xs",
    "outputId": "d4f3dfb1-b1b9-4c96-a9e4-32df3851c94b"
   },
   "outputs": [
    {
     "name": "stdout",
     "output_type": "stream",
     "text": [
      "Tuples:\n",
      "A tuple with four elements:  (2, 3, 'a', (4, 5))\n",
      "A tuple with a single element:  ('abc',)\n",
      "This is not a tuple:  abc\n",
      "A zero length tuple:  ()\n",
      "\n",
      "The tuple:  (2, 3, [], ('abc',))\n",
      "Adding/removing/inserting an element to the list inside the tuple:  (2, 3, [0, 'abc'], ('abc',))\n"
     ]
    }
   ],
   "source": [
    "print(\"Tuples:\")\n",
    "\n",
    "t1 = (2,3,\"a\",(4,5))\n",
    "t2 = (\"abc\",)   # tuple with a length of 1: a comma is needed\n",
    "not_a_tuple = (\"abc\")    # NOT a tuple, but a string in a pair of parentheses\n",
    "t3 = ()    # zero length tuple\n",
    "\n",
    "print(\"A tuple with four elements: \", t1)\n",
    "print(\"A tuple with a single element: \", t2)\n",
    "print(\"This is not a tuple: \", not_a_tuple)\n",
    "print(\"A zero length tuple: \", t3)\n",
    "\n",
    "# Invalid operation: t1[0] = 1  -> 'TypeError: 'tuple' object does not support item assignment' \n",
    "#    -> tuple is IMMUTABLE, it cannot be changed after creation\n",
    "\n",
    "t4 = (2,3,[],t2)\n",
    "print(\"\\nThe tuple: \", t4)\n",
    "t4[2].append(1) # the 2. elements is a list it can changed but the elements can be changed\n",
    "t4[2].append(\"abc\") # \n",
    "t4[2].remove(1)\n",
    "t4[2].insert(0,0)\n",
    "print(\"Adding/removing/inserting an element to the list inside the tuple: \", t4)\n"
   ]
  },
  {
   "cell_type": "markdown",
   "metadata": {
    "id": "07dHqwhGGlrj"
   },
   "source": [
    "### Packing and unpacking tuples"
   ]
  },
  {
   "cell_type": "code",
   "execution_count": 31,
   "metadata": {
    "colab": {
     "base_uri": "https://localhost:8080/",
     "height": 308
    },
    "id": "WkeR4eLUGniS",
    "outputId": "0b52de0a-b78c-4556-a088-add93e415c4c"
   },
   "outputs": [
    {
     "name": "stdout",
     "output_type": "stream",
     "text": [
      "\n",
      "The function returned two elements which were automatically packed into a tuple:  (7, 2)\n",
      "The function returned two elements which were put in two separate variables: \n",
      "     8\n",
      "     3\n",
      "\n",
      "Unpacked a 2 long tuple into two variables: \n",
      "     7\n",
      "     2\n",
      "\n",
      "Length of a tuple:  2\n",
      "\n",
      "Iterating a tuple the same way as a list: \n",
      "     7\n",
      "     2\n"
     ]
    }
   ],
   "source": [
    "# t5 = 1, 2, \"asd\", [34,54], (2,(1,))\n",
    "# print(\"Packed 5 elements into a tuple: \", t5)\n",
    "\n",
    "def func_swap(x, y):\n",
    "  return y, x\n",
    "\n",
    "t6 = func_swap(2,7)\n",
    "print(\"\\nThe function returned two elements which were automatically packed into a tuple: \", t6)\n",
    "\n",
    "aa, bb = func_swap(3,8)\n",
    "print(\"The function returned two elements which were put in two separate variables: \")\n",
    "print(\"    \", aa)\n",
    "print(\"    \", bb)\n",
    "\n",
    "a1, b1 = t6\n",
    "print(\"\\nUnpacked a 2 long tuple into two variables: \")\n",
    "print(\"    \", a1)\n",
    "print(\"    \", b1)\n",
    "\n",
    "print(\"\\nLength of a tuple: \", len(t6))\n",
    "\n",
    "print(\"\\nIterating a tuple the same way as a list: \")\n",
    "for item in t6:\n",
    "  print(\"    \", item)"
   ]
  },
  {
   "cell_type": "code",
   "execution_count": 13,
   "metadata": {
    "colab": {
     "base_uri": "https://localhost:8080/",
     "height": 90
    },
    "id": "maN_j4jVIct5",
    "outputId": "688bdc25-2327-4b92-95c9-75833f908d8b"
   },
   "outputs": [
    {
     "name": "stdout",
     "output_type": "stream",
     "text": [
      "Any sequence can be unpacked this way (if length is known), not only a tuple: \n",
      "     abc\n",
      "     -1.5\n",
      "     [None]\n"
     ]
    }
   ],
   "source": [
    "my_list = ['abc', -1.5, [None]]\n",
    "a1, a2, a3 = my_list\n",
    "print(\"Any sequence can be unpacked this way (if length is known), not only a tuple: \")\n",
    "print(\"    \", a1)\n",
    "print(\"    \", a2)\n",
    "print(\"    \", a3)"
   ]
  },
  {
   "cell_type": "markdown",
   "metadata": {
    "id": "XWk1HuzYJeIH"
   },
   "source": [
    "If we want to pass the elements of a tuple when calling a function as different arguments of that function then the **unpack operator** might help.\n",
    "\n",
    "More details at https://realpython.com/python-kwargs-and-args/ "
   ]
  },
  {
   "cell_type": "markdown",
   "metadata": {
    "id": "ZEYKTKY2X9sV"
   },
   "source": [
    "### `set` type\n",
    "\n",
    "In a set, every element appears once. It can contain mixed types of objects as well but only immutable ones (such as numbers, strings, NoneType, tuple, ...).\n",
    "\n",
    "Checking if a set contains an element by the implementation of a hash function has a time complexity of **O(1)**. This same operation on a list would have a time of **O(n)**."
   ]
  },
  {
   "cell_type": "code",
   "execution_count": 14,
   "metadata": {
    "colab": {
     "base_uri": "https://localhost:8080/",
     "height": 144
    },
    "id": "MbnG65ezYMEy",
    "outputId": "66016d4c-5d4b-4916-ceec-cbd57e9736db"
   },
   "outputs": [
    {
     "name": "stdout",
     "output_type": "stream",
     "text": [
      "Set objects: \n",
      "An empty set:  set()\n",
      "Duplicate elements are stored once in the set:  {1, 'adab', 3, 2, ('a',), 'a', None}\n",
      "\n",
      "A set constructed from a list:  {1, 2, 5, 7, 8}\n",
      "A set constructed from a tuple:  {1, 2, 3}\n",
      "A set constructed from the characters of a string (as string is iterable):  {'c', 'a', 'd', 'b'}\n"
     ]
    }
   ],
   "source": [
    "print(\"Set objects: \")\n",
    "\n",
    "# s1 = {}  # -> this creates an empty dict object, not an empty set\n",
    "s1 = set()  # to create an empty set, the constructor must be used\n",
    "print(\"An empty set: \", s1)\n",
    "\n",
    "s2 = {1,2,3,2,(\"a\",),1,None,3,3,None,3,\"adab\",(\"a\",),\"a\"}\n",
    "print(\"Duplicate elements are stored once in the set: \", s2)\n",
    "\n",
    "# s3 = {2, [2]}: 'TypeError: unhashable type: 'list'' -> only immutable types can be put in a set.\n",
    "\n",
    "list1 = [7,1,1,1,2,5,7,8]\n",
    "tup1 = (3,1,1,2,2,3,3)\n",
    "str1 = \"abcabd\"\n",
    "s6 = set(list1)\n",
    "s7 = set(tup1)\n",
    "s8 = set(str1)\n",
    "\n",
    "print(\"\\nA set constructed from a list: \", s6)\n",
    "print('A set constructed from a tuple: ', s7)\n",
    "print('A set constructed from the characters of a string (as string is iterable): ', s8)\n",
    "\n",
    "# NO GUARANTEE about the order of iteration!\n"
   ]
  },
  {
   "cell_type": "markdown",
   "metadata": {
    "id": "2ox4sB3FJ-b_"
   },
   "source": [
    "### Set operations"
   ]
  },
  {
   "cell_type": "code",
   "execution_count": 15,
   "metadata": {
    "colab": {
     "base_uri": "https://localhost:8080/",
     "height": 417
    },
    "id": "-o7rY5aVJ-4v",
    "outputId": "ddff1f00-1f32-4221-92ba-5da4216b8e4d"
   },
   "outputs": [
    {
     "name": "stdout",
     "output_type": "stream",
     "text": [
      "Length of a set:  7\n",
      "Is 'adab' in the set?  True\n",
      "Is 'adab' not in the set?  False\n",
      "Is 'asd' in the set?  False\n",
      "\n",
      "Union:  {1, 2, 3, 5, 7, 8}\n",
      "Intersection:  {1, 2}\n",
      "Symmetric difference (items present in exactly one set):  {3, 5, 7, 8}\n",
      "Subtraction (tems in set#1 that are not in set#2) {8, 5, 7}\n",
      "\n",
      "Modifying a set: \n",
      "The set:  {1, 2, 5, 7, 8}\n",
      "The set after 'adab' was added:  {1, 2, 'adab', 5, 7, 8}\n",
      "The set after 1 was added (unchanged since 1 was already in the set):  {1, 2, 'adab', 5, 7, 8}\n",
      "The set after 'adab' was removed:  {1, 2, 5, 7, 8}\n",
      "The set after adding multiple elements:  {1, 2, 5, 7, 8, '23', (23,), 23}\n",
      "\n",
      "Iterating a set, order is not guaranteed:\n",
      "     c\n",
      "     a\n",
      "     d\n",
      "     b\n"
     ]
    }
   ],
   "source": [
    "print(\"Length of a set: \", len(s2))\n",
    "\n",
    "# It is much faster to check a large set for an element than to check a list\n",
    "print(\"Is 'adab' in the set? \", 'adab' in s2)\n",
    "print(\"Is 'adab' not in the set? \", 'adab' not in s2)   # 'not in' is a single operator!\n",
    "print(\"Is 'asd' in the set? \", 'asd' in s2)\n",
    "\n",
    "print('\\nUnion: ', s6 | s7)\n",
    "print('Intersection: ', s6 & s7)\n",
    "print('Symmetric difference (items present in exactly one set): ', s6 ^ s7)\n",
    "print('Subtraction (tems in set#1 that are not in set#2)', s6 - s7)\n",
    "\n",
    "print(\"\\nModifying a set: \")\n",
    "print(\"The set: \", s6)\n",
    "s6.add('adab')\n",
    "print(\"The set after 'adab' was added: \", s6)\n",
    "s6.add(1)  # already present, not added\n",
    "print(\"The set after 1 was added (unchanged since 1 was already in the set): \", s6)\n",
    "s6.remove('adab')\n",
    "print(\"The set after 'adab' was removed: \", s6)\n",
    "s6.update(['23', 23, 23, (23,)])   # adding all elements from a list, set, or other sequence\n",
    "print(\"The set after adding multiple elements: \", s6)\n",
    "\n",
    "print(\"\\nIterating a set, order is not guaranteed:\")\n",
    "for my_item in s8:\n",
    "    print('    ', my_item)\n"
   ]
  },
  {
   "cell_type": "code",
   "execution_count": 16,
   "metadata": {},
   "outputs": [
    {
     "data": {
      "text/plain": [
       "{1, 2, 3, 'a', 'b', 'c', 'd', 'e', 'f', 'g', 'h'}"
      ]
     },
     "execution_count": 16,
     "metadata": {},
     "output_type": "execute_result"
    }
   ],
   "source": [
    "test_set = {\"a\",\"b\",\"c\",\"d\",\"e\",1,\"f\",2,\"g\",3,\"h\"}\n",
    "test_set"
   ]
  },
  {
   "cell_type": "markdown",
   "metadata": {
    "id": "XizdsYrgXqEu"
   },
   "source": [
    "### `dict` type: dictionary (not only for words...)\n",
    "\n",
    "Associates unique keys to values. It is best to think of it as a set of key-value pairs, where the keys must be unique. Keys can only be of an immutable type (for hashing purposes)."
   ]
  },
  {
   "cell_type": "code",
   "execution_count": 17,
   "metadata": {
    "colab": {
     "base_uri": "https://localhost:8080/",
     "height": 310
    },
    "id": "wYtBJBYNX7Op",
    "outputId": "b305329e-a226-451a-9420-be5751376718"
   },
   "outputs": [
    {
     "name": "stdout",
     "output_type": "stream",
     "text": [
      "An empty dictionary:  {}\n",
      "A dictionary:  {1: ['bla', 'bla'], 'asd': ['blab'], (): [123, 456], (1, 2, 3): 2}\n",
      "An iterator over the keys of the dictionary:  dict_keys([1, 'asd', (), (1, 2, 3)])\n",
      "An iterator over the values of the dictionary:  dict_values([['bla', 'bla'], ['blab'], [123, 456], 2])\n",
      "An iterator over the (key, value) pairs of the dictionary:  dict_items([(1, ['bla', 'bla']), ('asd', ['blab']), ((), [123, 456]), ((1, 2, 3), 2)])\n",
      "\n",
      "Iteration through keys, order is not guaranteed:\n",
      "     John\n",
      "     Eliza\n",
      "     Sam\n",
      "\n",
      "Iteration through (key, value) pairs, order is not guaranteed:\n",
      "\t John  ->  25\n",
      "\t Eliza  ->  32\n",
      "\t Sam  ->  59\n"
     ]
    }
   ],
   "source": [
    "dict1 = {}   # an empty dictionary\n",
    "dict2 = {1:['bla','bla'], 'asd':['blab'], ():[123, 456], (1,2,3):2}   # keys and values of different type are possible\n",
    "\n",
    "print(\"An empty dictionary: \", dict1)\n",
    "print(\"A dictionary: \", dict2)\n",
    "\n",
    "print(\"An iterator over the keys of the dictionary: \", dict2.keys())\n",
    "print(\"An iterator over the values of the dictionary: \", dict2.values())\n",
    "print(\"An iterator over the (key, value) pairs of the dictionary: \", dict2.items())\n",
    "\n",
    "dict4 = {'John':25, 'Eliza':32, 'Sam':59}\n",
    "print(\"\\nIteration through keys, order is not guaranteed:\")\n",
    "for key in dict4:\n",
    "  print('    ', key)\n",
    "  \n",
    "print(\"\\nIteration through (key, value) pairs, order is not guaranteed:\")\n",
    "for key, value in dict4.items():   # <-- unpacking (key, value) tuple into two variables\n",
    "  print(\"\\t\", key, \" -> \", value)\n"
   ]
  },
  {
   "cell_type": "markdown",
   "metadata": {
    "id": "iiaIbjWKODTn"
   },
   "source": [
    "Dictionary operations"
   ]
  },
  {
   "cell_type": "code",
   "execution_count": 18,
   "metadata": {
    "colab": {
     "base_uri": "https://localhost:8080/",
     "height": 201
    },
    "id": "P-biLWtWODwf",
    "outputId": "429318f2-cc2d-4758-9731-5f65a1276b0f"
   },
   "outputs": [
    {
     "name": "stdout",
     "output_type": "stream",
     "text": [
      "Length of dict:  3\n",
      "Get value for key 'John' from dict:  25\n",
      "Is 'Mary' among the dict keys?  False\n",
      "Is 'Eliza' not among the dict keys?  False\n",
      "\n",
      "Increase value for key 'John' by 10:  {'John': 35, 'Eliza': 32, 'Sam': 59}\n",
      "Added a new key to the dict with a value of 1:  {'John': 35, 'Eliza': 32, 'Sam': 59, 'Robert': 1}\n",
      "Deleted 'John' from the dict:  {'Eliza': 32, 'Sam': 59, 'Robert': 1}\n",
      "Added all elements from another dict (values for existing keys were overwritten:  {'Eliza': 32, 'Sam': 59, 'Robert': 1, 1: ['bla', 'bla'], 'asd': ['blab'], (): [123, 456], (1, 2, 3): 2}\n"
     ]
    }
   ],
   "source": [
    "print(\"Length of dict: \", len(dict4))\n",
    "print(\"Get value for key 'John' from dict: \", dict4['John'])\n",
    "\n",
    "print(\"Is 'Mary' among the dict keys? \", 'Mary' in dict4)\n",
    "print(\"Is 'Eliza' not among the dict keys? \", \"Eliza\" not in dict4)\n",
    "\n",
    "# modified the value of a key in dict\n",
    "dict4['John'] += 10\n",
    "print(\"\\nIncrease value for key 'John' by 10: \", dict4)\n",
    "\n",
    "# added new key (and value) to dict\n",
    "dict4['Robert'] = 1\n",
    "print(\"Added a new key to the dict with a value of 1: \", dict4)\n",
    "\n",
    "# deleting key-value pair:\n",
    "del dict4['John']     # the del statement is used for deletion of variables as well, we will discuss this later\n",
    "print(\"Deleted 'John' from the dict: \", dict4)\n",
    "\n",
    "# adding all elements of a dict to another one:\n",
    "dict4.update(dict2)   # if keys are present in both dicts, the corresponding value in dict2 overwrites the value in dict4\n",
    "print(\"Added all elements from another dict (values for existing keys were overwritten: \", dict4)\n",
    "\n",
    "# !!! ORDER OF ITERAION through the dict items is NOT guaranteed to be either sorted by\n",
    "#          keys or values or by item insertion date\n",
    "# however, OrderedDict from collections module guarantees iteration order\n",
    "#          to be the same as the order of item insertions to the OrderedDict\n",
    "\n"
   ]
  },
  {
   "cell_type": "markdown",
   "metadata": {
    "id": "pB27AJlrMAwN"
   },
   "source": [
    "## Important built-in functions"
   ]
  },
  {
   "cell_type": "markdown",
   "metadata": {
    "id": "-XHYXD-DQSaL"
   },
   "source": [
    "### The `enumerate()` function\n",
    "\n",
    "Iterates through a sequence returning the elements and their indexes in order."
   ]
  },
  {
   "cell_type": "code",
   "execution_count": 19,
   "metadata": {
    "colab": {
     "base_uri": "https://localhost:8080/",
     "height": 90
    },
    "id": "lF5SEEtAQbFd",
    "outputId": "b423ca5f-8e55-451a-ab44-9ff42515f02b"
   },
   "outputs": [
    {
     "name": "stdout",
     "output_type": "stream",
     "text": [
      "Iterating a sequence, but together with each element the index is given:\n",
      "    at idx# 0 :  bla\n",
      "    at idx# 1 :  asd\n",
      "    at idx# 2 :  None\n"
     ]
    }
   ],
   "source": [
    "print('Iterating a sequence, but together with each element the index is given:')\n",
    "for idx, item in enumerate(['bla', 'asd', None]):\n",
    "  print('    at idx#', idx, ': ', item)"
   ]
  },
  {
   "cell_type": "markdown",
   "metadata": {
    "id": "iVnBL3E0MEPb"
   },
   "source": [
    "### The `zip()` function\n",
    "\n",
    "Creates a sequence of pairs by aggregating two sequences (list, iterator, etc.). Its result is an iterator."
   ]
  },
  {
   "cell_type": "code",
   "execution_count": 20,
   "metadata": {
    "colab": {
     "base_uri": "https://localhost:8080/",
     "height": 126
    },
    "id": "3LxGum-PMATu",
    "outputId": "c1c4f0e0-dfcd-4811-96bf-3ea2d42a4ada"
   },
   "outputs": [
    {
     "name": "stdout",
     "output_type": "stream",
     "text": [
      "Iterating through the zipped lists (each element is a 2 long tuple): \n",
      "     ('Eliza', 35)\n",
      "     ('John', 26)\n",
      "     ('Mary', 17)\n",
      "\n",
      "A dict is constructed from the two zipped lists:  {'Eliza': 35, 'John': 26, 'Mary': 17}\n"
     ]
    }
   ],
   "source": [
    "list1 = [\"Eliza\", \"John\", \"Mary\"]\n",
    "list2 = [35, 26, 17]\n",
    "\n",
    "print(\"Iterating through the zipped lists (each element is a 2 long tuple): \")\n",
    "for pair in zip(list1, list2):\n",
    "  print('    ', pair)\n",
    "\n",
    "my_dict = dict(zip(list1, list2))\n",
    "print(\"\\nA dict is constructed from the two zipped lists: \", my_dict)"
   ]
  },
  {
   "cell_type": "markdown",
   "metadata": {
    "id": "640582UpQcTD"
   },
   "source": [
    "### The `min(), max(), abs(), round(), all(), any()` functions"
   ]
  },
  {
   "cell_type": "code",
   "execution_count": 21,
   "metadata": {
    "colab": {
     "base_uri": "https://localhost:8080/",
     "height": 162
    },
    "id": "hvNLWwJ1QkB-",
    "outputId": "d8f159cb-738f-412d-d836-18f122100eca"
   },
   "outputs": [
    {
     "name": "stdout",
     "output_type": "stream",
     "text": [
      "The minimum of a sequence:  -56\n",
      "The maximum of a range iterator:  10\n",
      "\n",
      "1.5 rounded:  2\n",
      "\n",
      "A sequence of boolean expressions:  [True, False, True]\n",
      "Logical AND operator applied to a sequence of boolean expressions:  False\n",
      "Logical OR operator applied to a sequence of boolean expressions:  True\n"
     ]
    }
   ],
   "source": [
    "my_list2 = [15, 25, 1.26, -56, 2., .3]\n",
    "print(\"The minimum of a sequence: \", min(my_list2))\n",
    "print(\"The maximum of a range iterator: \", max(range(3,11)))\n",
    "\n",
    "print(\"\\n1.5 rounded: \", round(1.5))\n",
    "\n",
    "my_bools = [2 < 3, 4 < 5 <= 1, True]\n",
    "print(\"\\nA sequence of boolean expressions: \", my_bools)\n",
    "print(\"Logical AND operator applied to a sequence of boolean expressions: \", all(my_bools))\n",
    "print(\"Logical OR operator applied to a sequence of boolean expressions: \", any(my_bools))\n"
   ]
  },
  {
   "cell_type": "markdown",
   "metadata": {
    "id": "X6NAyXmCQoSW"
   },
   "source": [
    "### The `map()` and `filter()` functions\n",
    "\n",
    "`map()`: applies a function to all elements of a sequence\n",
    "\n",
    "`filter()`: selects the elements of a sequence for which the given function returns true"
   ]
  },
  {
   "cell_type": "code",
   "execution_count": 22,
   "metadata": {
    "colab": {
     "base_uri": "https://localhost:8080/",
     "height": 110
    },
    "id": "TcSoVBmvQsIW",
    "outputId": "4898e02b-ee92-4aac-d1b5-c555f464a691"
   },
   "outputs": [
    {
     "name": "stdout",
     "output_type": "stream",
     "text": [
      "Iterate my doubled sequence:\n",
      "     2\n",
      "     4\n",
      "     6\n",
      "\n",
      "The iterators can be converted into lists:  [2, 4, 6]\n",
      "Convert the filtered sequence iterator into a list:  [3]\n"
     ]
    }
   ],
   "source": [
    "my_list = [1,2,3]\n",
    "my_doubled_sequence = map(lambda x: 2*x, my_list)  # named functions can be given as well\n",
    "print(\"Iterate my doubled sequence:\")\n",
    "for item in my_doubled_sequence:\n",
    "  print('    ', item)\n",
    "\n",
    "print(\"\\nThe iterators can be converted into lists: \", list(map(lambda x: 2*x, my_list)))\n",
    "\n",
    "filtered_sequence = filter(lambda x: x > 2, my_list)  # only keep elements greater than 2\n",
    "print(\"Convert the filtered sequence iterator into a list: \", list(filtered_sequence))"
   ]
  },
  {
   "cell_type": "markdown",
   "metadata": {
    "id": "6J_-fo6qTdbb"
   },
   "source": [
    "## Classes\n",
    "\n",
    "The concept of classes appears in many programming languages, in most cases as part of the object-oriented programming paradigm.\n",
    "\n",
    "In an ideal case, a class contains the required fields and the methods for defining the behaviour of one implemented data structure or functionality. This way by initializing the class we get one instance of the object.\n",
    "\n",
    "As an example, we can take a class that represents a car. The class is the prototype of the car as a concept. The instance is a concrete materialization of the car's prototype, meaning that it can be managed as a physical car (e.g.: Lazlo's car). The fields of the car class are the car's attributes, such as its current speed, weight, number of seats, number of passengers, etc. By creating an instance these fields get values, just how a real car has a speed that can be described by a number, has a weight and a number of seats and passengers. The current values of these fields make up the object's state. The methods of the car class used on the concrete instance can change the values of the fields (and thus change the state of the instance) or return them.\n",
    "\n",
    "The documentation of advanced concepts such as inheritance, static variables/functions can be found here: https://docs.python.org/3/tutorial/classes.html"
   ]
  },
  {
   "cell_type": "code",
   "execution_count": 23,
   "metadata": {
    "colab": {
     "base_uri": "https://localhost:8080/",
     "height": 399
    },
    "id": "2_bY0AZcTfBU",
    "outputId": "38a90fd6-9e2c-4e28-8ba3-9dd6bbceab8c"
   },
   "outputs": [
    {
     "name": "stdout",
     "output_type": "stream",
     "text": [
      "Car race:\n",
      "Speed of Suzuki at the start:  0.0\n",
      "Speed of Suzuki at the start:  0.0\n",
      "Speed of Suzuki after accelerating twice:  2.0\n",
      "Speed of Porsche after accelerating once:  5.0\n",
      "Speed of Suzuki after braking:  1.0\n",
      "\n",
      "Directly accessing fields (not nice):  1000\n",
      "Accessing private field with single underscore:  2\n",
      "Accessing private field with double underscore:  3\n"
     ]
    }
   ],
   "source": [
    "class Car:\n",
    "  \n",
    "  '''\n",
    "  Member fields:\n",
    "    speed: float\n",
    "    acceleration: float\n",
    "  '''\n",
    "  \n",
    "  # the constructor: creates and initializes a new Car instance;\n",
    "  # the self variable in the scope of the class points to the instance in context\n",
    "  def __init__(self, acceleration):\n",
    "    self.acceleration = acceleration\n",
    "        # the 'acceleration' field of the instace is defined using the single constructor parameter\n",
    "    self.speed = 0.   # another field is defined\n",
    "    \n",
    "    # some private fields - this is just a convention\n",
    "    self._private_field1 = 2\n",
    "    self.__private_field2 = 3\n",
    "\n",
    "    # end of constructor method\n",
    "      \n",
    "  # querying speed\n",
    "  def get_speed(self):\n",
    "    return self.speed\n",
    "      \n",
    "  # the following member functions modify the state of the object: accelerating and braking\n",
    "  def accelerate(self):\n",
    "    self.speed += self.acceleration\n",
    "  def brake(self):\n",
    "    self.speed = max(0., self.speed - self.acceleration)\n",
    "\n",
    "# definition of Car class ends here\n",
    "  \n",
    "print(\"Car race:\")\n",
    "  \n",
    "suzuki_swift = Car(1.0)   # the suzuki instance is constructed with a low acceleration\n",
    "porsche = Car(5.0)        # the porsche instance is constructed with a higher acceleration\n",
    "\n",
    "print(\"Speed of Suzuki at the start: \", suzuki_swift.get_speed())\n",
    "print(\"Speed of Suzuki at the start: \", porsche.get_speed())\n",
    "\n",
    "suzuki_swift.accelerate()\n",
    "suzuki_swift.accelerate()\n",
    "\n",
    "porsche.accelerate()\n",
    "\n",
    "print(\"Speed of Suzuki after accelerating twice: \", suzuki_swift.get_speed())\n",
    "print(\"Speed of Porsche after accelerating once: \", porsche.get_speed())\n",
    "\n",
    "suzuki_swift.brake()\n",
    "print(\"Speed of Suzuki after braking: \", suzuki_swift.get_speed())\n",
    "\n",
    "porsche.speed = 1000\n",
    "print(\"\\nDirectly accessing fields (not nice): \", porsche.speed)\n",
    "\n",
    "# There are two conventions for private members (variable/function hiding):\n",
    "#   one underscore in front of the member name means private by convention,\n",
    "#     but accessible similarly to regular members\n",
    "#   two underscore in front of the member name makes the member specific for each class,\n",
    "#     such that subclasses can't overwrite it accidentally, but still accessible\n",
    "\n",
    "print(\"Accessing private field with single underscore: \", porsche._private_field1)\n",
    "#print(porsche.__private_field2)  # AttributeError: 'Car' object has no attribute '__private_field2'\n",
    "\n",
    "# variables with two underscore prefixes are less straightforward to access:\n",
    "print(\"Accessing private field with double underscore: \", porsche._Car__private_field2)\n"
   ]
  },
  {
   "cell_type": "markdown",
   "metadata": {
    "id": "7-RiRDtd7mvY"
   },
   "source": [
    "## List, Set, Dict comprehension\n",
    "\n",
    "A concise one-line way of creating new lists/sets/dictionaries. Syntactic sugar."
   ]
  },
  {
   "cell_type": "code",
   "execution_count": 32,
   "metadata": {
    "colab": {
     "base_uri": "https://localhost:8080/",
     "height": 199
    },
    "id": "2lTMagbM7qoO",
    "outputId": "69e01794-9cd0-4095-e337-e81fcea89255"
   },
   "outputs": [
    {
     "name": "stdout",
     "output_type": "stream",
     "text": [
      "List comprehensions: \n",
      "\n",
      "We will double each item in the following list:  [1.2, 2.2, -3.0, 0.5, 0.0]\n",
      "The result list created with a for loop:  [2.4, 4.4, -6.0, 1.0, 0.0]\n",
      "The result list created with a list comprehension:  [2.4, 4.4, -6.0, 1.0, 0.0]\n",
      "\n",
      "We will double each positive number, set zeros to one, ...\n",
      "    ... and triple all negative numbers in the following list:  [1.2, 2.2, -3.0, 0.5, 0.0]\n",
      "The result list created with a for loop:  [2.4, 4.4, -9.0, 1.0, 1.0]\n",
      "The result list created with a list comprehension:  [2.4, 4.4, -9.0, 1.0, 1.0]\n"
     ]
    }
   ],
   "source": [
    "print(\"List comprehensions: \")\n",
    "# EXAMPLE#1, LONG VERSION:\n",
    "\n",
    "my_list = [1.2, 2.2, -3., .5, 0.]\n",
    "print(\"\\nWe will double each item in the following list: \", my_list)\n",
    "\n",
    "new_list = []\n",
    "for item in my_list:\n",
    "    new_list.append(item*2)\n",
    "\n",
    "print(\"The result list created with a for loop: \", new_list)\n",
    "\n",
    "# EXAMPLE#1, SHORT VERSION:\n",
    "new_list = [item*2 for item in my_list]\n",
    "print(\"The result list created with a list comprehension: \", new_list)\n",
    "\n",
    "# EXAMPLE#2, LONG VERSION:\n",
    "print(\"\\nWe will double each positive number, set zeros to one, ...\")\n",
    "print(\"    ... and triple all negative numbers in the following list: \", my_list)\n",
    "\n",
    "new_list = []\n",
    "for item in my_list:\n",
    "    if item > 0:\n",
    "        new_list.append(item*2)\n",
    "    elif item == 0.:\n",
    "        new_list.append(1.)\n",
    "    else:\n",
    "        new_list.append(item*3)\n",
    "\n",
    "print(\"The result list created with a for loop: \", new_list)\n",
    "    \n",
    "# EXAMPLE#2, SHORT VERSION:\n",
    "new_list = [item*2 if item > 0 else 1. if item == 0. else item*3 for item in my_list]\n",
    "print(\"The result list created with a list comprehension: \", new_list)\n"
   ]
  },
  {
   "cell_type": "code",
   "execution_count": 25,
   "metadata": {
    "colab": {
     "base_uri": "https://localhost:8080/",
     "height": 110
    },
    "id": "YtOerwMILupu",
    "outputId": "2a8cf91a-70e3-48b2-8a11-86548f88487e"
   },
   "outputs": [
    {
     "name": "stdout",
     "output_type": "stream",
     "text": [
      "\n",
      "We will select each negative item and double them from the following list:  [1.2, -2.2, -3.0, 0.5, 0.0]\n",
      "The result list created with a for loop:  [-4.4, -6.0]\n",
      "The result list created with a list comprehension:  [-4.4, -6.0]\n"
     ]
    }
   ],
   "source": [
    "# WHEN USING 'IF' WITH ONLY ONE BRANCH\n",
    "\n",
    "# EXAMPLE#1, LONG VERSION:\n",
    "\n",
    "my_list = [1.2, -2.2, -3., .5, 0.]\n",
    "print(\"\\nWe will select each negative item and double them from the following list: \", my_list)\n",
    "\n",
    "new_list = []\n",
    "for item in my_list:\n",
    "  if item < 0:\n",
    "    new_list.append(item*2)\n",
    "  \n",
    "print(\"The result list created with a for loop: \", new_list)\n",
    "\n",
    "# EXAMPLE#1, SHORT VERSION:\n",
    "new_list = [item*2 for item in my_list if item < 0]\n",
    "print(\"The result list created with a list comprehension: \", new_list)\n"
   ]
  },
  {
   "cell_type": "markdown",
   "metadata": {
    "id": "Lq1aj7VWMeHv"
   },
   "source": [
    "**Two cases of using if statements in list comprehension:**\n",
    "*   If the if statement has an else branch and all branches, including the else branch, add a new element to the list/set/dictionary, then inside the comprehension all cycles that contain an if statement have their **for keyword after the if/elif/else keywords** e.g.:\n",
    "\n",
    "```\n",
    "new_list = []\n",
    "for item in my_list:\n",
    "  if item > 0:\n",
    "    new_list.append(item*2)\n",
    "  else:\n",
    "    new_list.append(1.)\n",
    "```\n",
    "Rewritten:\n",
    "```\n",
    "new_list = [item*2 if item > 0 else 1. for item in my_list]\n",
    "```\n",
    "*   If the if statement has no else branch, or not all of its branches add new elements to the list/set/dictionary, then inside the comprehension the **if keyword is after the for keyword of the cycle it is contained in**.\n",
    "\n",
    "```\n",
    "new_list = []\n",
    "for item in my_list:\n",
    "  if item > 0:\n",
    "    new_list.append(item*2)\n",
    "```\n",
    "Rewritten:\n",
    "```\n",
    "new_list = [item*2 for item in my_list if item > 0]\n",
    "```\n"
   ]
  },
  {
   "cell_type": "code",
   "execution_count": 26,
   "metadata": {
    "colab": {
     "base_uri": "https://localhost:8080/",
     "height": 219
    },
    "id": "402JShDpQn0z",
    "outputId": "a4f8b2d9-2e3c-4275-a06d-f7385ac2cd15"
   },
   "outputs": [
    {
     "name": "stdout",
     "output_type": "stream",
     "text": [
      "\n",
      "Jagged lists:\n",
      "\n",
      "We double each negative item in the following list:  [[2, 3, -8], [4, -7, 2], [], [5, 6, -3], [1, 5]]\n",
      "The result list created with a loop:  [[2, 3, -16], [4, -14, 2], [], [5, 6, -6], [1, 5]]\n",
      "The result list created with a (nested) list comprehension:  [[2, 3, -16], [4, -14, 2], [], [5, 6, -6], [1, 5]]\n",
      "\n",
      "We create a flat list of items from the following jagged list:  [[2, 3, -8], [4, -7, 2], [], [5, 6, -3], [1, 5]]\n",
      "The result list created with a loop:  [2, 3, -8, 4, -7, 2, 5, 6, -3, 1, 5]\n",
      "The result list created with list comprehension:  [2, 3, -8, 4, -7, 2, 5, 6, -3, 1, 5]\n"
     ]
    }
   ],
   "source": [
    "\n",
    "# JAGGED LISTS (lists in lists)\n",
    "\n",
    "print(\"\\nJagged lists:\")\n",
    "my_jlist = [[2,3,-8],[4,-7,2],[],[5,6,-3],[1,5]]\n",
    "print(\"\\nWe double each negative item in the following list: \", my_jlist)\n",
    "\n",
    "# EXAMPLE#1: modify jagged list: double negative elements\n",
    "\n",
    "# LONG VERSION:\n",
    "new_list = []\n",
    "for item_list in my_jlist:\n",
    "  new_sublist = []\n",
    "  for item in item_list:\n",
    "    if item < 0:\n",
    "       new_sublist.append(item*2)\n",
    "    else:\n",
    "       new_sublist.append(item)\n",
    "  new_list.append(new_sublist)\n",
    "\n",
    "print(\"The result list created with a loop: \", new_list)\n",
    "\n",
    "# SHORT VERSION:\n",
    "\n",
    "new_list = [[item*2 if item < 0 else item for item in sublist] for sublist in my_jlist]\n",
    "print(\"The result list created with a (nested) list comprehension: \", new_list)\n",
    "\n",
    "# EXAMPLE#2: jagged list to flat list\n",
    "print(\"\\nWe create a flat list of items from the following jagged list: \", my_jlist)\n",
    "\n",
    "# LONG VERSION:\n",
    "new_list = []\n",
    "for item_list in my_jlist:\n",
    "  for item in item_list:\n",
    "    new_list.append(item)\n",
    "\n",
    "print(\"The result list created with a loop: \", new_list)\n",
    "    \n",
    "# SHORT VERSION:\n",
    "\n",
    "new_list = [item for itemlist in my_jlist for item in itemlist]\n",
    "print(\"The result list created with list comprehension: \", new_list)\n"
   ]
  },
  {
   "cell_type": "markdown",
   "metadata": {
    "id": "d5331oI_PAl0"
   },
   "source": [
    "Set and dictionary comprehension:"
   ]
  },
  {
   "cell_type": "code",
   "execution_count": 27,
   "metadata": {
    "colab": {
     "base_uri": "https://localhost:8080/",
     "height": 219
    },
    "id": "gAuinoVGQpai",
    "outputId": "4e6b6720-b19c-48a8-9abe-df0003a6d035"
   },
   "outputs": [
    {
     "name": "stdout",
     "output_type": "stream",
     "text": [
      "\n",
      "Set comprehension: \n",
      "\n",
      "We create a set from the absolute values of items in this list:  [2, 3, -8, 4, -7, 2, 5, 6, -3, 1, 5]\n",
      "The result set created with set comprehension:  {1, 2, 3, 4, 5, 6, 7, 8}\n",
      "\n",
      "Dict comprehension: \n",
      "\n",
      "We create a dict from item:'item' key-value pairs from this set:  {1, 2, 3, 4, 5, 6, 7, 8}\n",
      "The result dict created with dict comprehension:  {1: '1', 2: '2', 3: '3', 4: '4', 5: '5', 6: '6', 7: '7', 8: '8'}\n"
     ]
    }
   ],
   "source": [
    "print(\"\\nSet comprehension: \")\n",
    "\n",
    "print(\"\\nWe create a set from the absolute values of items in this list: \", new_list)\n",
    "new_set = {abs(item) for item in new_list}\n",
    "print(\"The result set created with set comprehension: \", new_set)\n",
    "\n",
    "print(\"\\nDict comprehension: \")\n",
    "\n",
    "print(\"\\nWe create a dict from item:'item' key-value pairs from this set: \", new_set)\n",
    "new_dict = {k:str(k) for k in new_set} ## {1:str(1), 2:str(2),...}\n",
    "print(\"The result dict created with dict comprehension: \", new_dict)\n"
   ]
  },
  {
   "cell_type": "markdown",
   "metadata": {
    "id": "NqxImEHhQZ4B"
   },
   "source": [
    "## Handling errors, the `assert` statement\n",
    "\n",
    "Error handling works in Python much like it does in, for example, C++ and Java. Documentation: https://docs.python.org/3.6/tutorial/errors.html\n",
    "\n",
    "The `assert` keyword can be used as a debugging tool. If the statement after the `assert` keyword  does not return true, an `AssertionError` exception will be thrown."
   ]
  },
  {
   "cell_type": "markdown",
   "metadata": {
    "id": "-EDH8hhdQUeE"
   },
   "source": [
    "## Iterators and generators\n",
    "\n",
    "One of the tools for lazy evaluation is the iterator. The old Python version 2 has many built-in operations that return one or more lists. This is not ideal in the case when large lists need to be generated, but we only required their first few elements. In Python version 3 most of these built-in functions will return an iterator. The iterator only creates the next element if it is needed. Generators are a special type of iterator.\n",
    "The following link contains some more information about generators: \n",
    "\n",
    "https://wiki.python.org/moin/Generators\n"
   ]
  }
 ],
 "metadata": {
  "colab": {
   "collapsed_sections": [],
   "name": "Python 2.ipynb",
   "provenance": []
  },
  "kernelspec": {
   "display_name": "Python 3 (ipykernel)",
   "language": "python",
   "name": "python3"
  },
  "language_info": {
   "codemirror_mode": {
    "name": "ipython",
    "version": 3
   },
   "file_extension": ".py",
   "mimetype": "text/x-python",
   "name": "python",
   "nbconvert_exporter": "python",
   "pygments_lexer": "ipython3",
   "version": "3.11.3"
  }
 },
 "nbformat": 4,
 "nbformat_minor": 1
}
