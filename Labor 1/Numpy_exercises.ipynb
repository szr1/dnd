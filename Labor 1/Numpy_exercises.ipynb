{
 "cells": [
  {
   "cell_type": "markdown",
   "metadata": {
    "id": "cLUOQVCcL439"
   },
   "source": [
    "\n",
    "**Created by:**\n",
    "\n",
    "__[Viktor Varga](https://github.com/vvarga90)__\n",
    "\n",
    "**Translated by:**\n",
    "\n",
    "__Gulyás János Adrián__\n",
    "\n",
    "<br>\n",
    "\n",
    "<img src=\"https://docs.google.com/uc?export=download&id=1WzgXsCoz8O-NeBlJTbuLPC1iIFDmgYt1\" style=\"display:inline-block\">\n",
    "<hr>"
   ]
  },
  {
   "cell_type": "markdown",
   "metadata": {
    "id": "bg-N-ivOMFrq"
   },
   "source": [
    "# Python tutorial - Numpy exercises\n",
    "\n",
    "The solutions are tested under the `# Tests` line by assert statements. Write your solution above that line. The solution is _presumably_ correct if the `Tests were successful.` text appears after the code block is run. Solving the exercises requires importing only the NumPy package.\n",
    "\n",
    "In exercise 0., we have given a possible solution.\n",
    "\n",
    "\n",
    "\n"
   ]
  },
  {
   "cell_type": "code",
   "execution_count": null,
   "metadata": {
    "id": "PDgWSegEzXRv"
   },
   "outputs": [],
   "source": [
    "import numpy as np"
   ]
  },
  {
   "cell_type": "markdown",
   "metadata": {
    "id": "XLCOzhQw9ouF"
   },
   "source": [
    "## **Exercise 0**\n",
    "\n",
    "Define the `relu` function, which performs the ReLU (Rectified Linear Unit) operation elementwise on an arbitrarily sized array.\n",
    "\n",
    "ReLU(z) = max(0,z)\n",
    "\n",
    "E.g.:\n",
    "```\n",
    "a = np.array([[1., -3.], [0.5, -0.5], [0., 2.]])\n",
    "relu(a) -> ndarray([[1., 0.], [0.5, 0.], [0., 2.]])\n",
    "```"
   ]
  },
  {
   "cell_type": "code",
   "execution_count": null,
   "metadata": {
    "colab": {
     "base_uri": "https://localhost:8080/",
     "height": 35
    },
    "id": "YmobKJ00ohmE",
    "outputId": "a09ac427-1a44-4826-f8af-44dc5fb3863a"
   },
   "outputs": [
    {
     "name": "stdout",
     "output_type": "stream",
     "text": [
      "Tests were successful.\n"
     ]
    }
   ],
   "source": [
    "\n",
    "# place of solution\n",
    "\n",
    "def relu(a):\n",
    "  return np.maximum(a, 0)   # elementwise maximum, not to be confused with np.amax()\n",
    "\n",
    "# Tests\n",
    "a = np.array([[1., -3.], [0.5, -0.5], [0., 2.]])\n",
    "a1 = relu(a)\n",
    "assert np.array_equal(a1, np.array([[1., 0.], [0.5, 0.], [0., 2.]]))\n",
    "print(\"Tests were successful.\")"
   ]
  },
  {
   "cell_type": "markdown",
   "metadata": {
    "id": "ExUOtGN9XUI-"
   },
   "source": [
    "# Basic exercises"
   ]
  },
  {
   "cell_type": "markdown",
   "metadata": {
    "id": "DQ-i7x_JQHm1"
   },
   "source": [
    "## **Exercise 1**\n",
    "\n",
    "Define the `split_array` function, which splits a 2-dimensional array into two slices on axis 0 in the given ratio. The function's first parameter is the array, the second is the `ratio` float between 0 and 1. The function returns the two slices of the original array. The length of the first slice along axis 0 is the length of the original array multiplied by the `ratio`, rounded down.\n",
    "\n",
    "E.g.:\n",
    "```\n",
    "a = np.array([[0.5, 1.2], [2.2, 1.0], [1.3, 0.9]])\n",
    "a1, a2 = split_array(a, 0.5)\n",
    "a1 -> ndarray([[0.5, 1.2]])\n",
    "a2 -> ndarray([[2.2, 1.0], [1.3, 0.9]])\n",
    "```"
   ]
  },
  {
   "cell_type": "code",
   "execution_count": null,
   "metadata": {
    "id": "Evhd0a3tRAMC"
   },
   "outputs": [],
   "source": [
    "# place of solution\n",
    "\n",
    "\n",
    "\n",
    "# Tests\n",
    "a = np.array([[0.5, 1.2], [2.2, 1.0], [1.3, 0.9]])\n",
    "a1, a2 = split_array(a, 0.5)\n",
    "assert np.array_equal(np.concatenate([a1, a2], axis=0), a)\n",
    "a3, a4 = split_array(a, 0.)\n",
    "assert a3.shape == (0,2)\n",
    "assert np.array_equal(a4, a)\n",
    "a5, a6 = split_array(a, 1.)\n",
    "assert np.array_equal(a5, a)\n",
    "assert a6.shape == (0,2)\n",
    "print(\"Tests were successful.\")"
   ]
  },
  {
   "cell_type": "markdown",
   "metadata": {
    "id": "8JS1XgMd0yHE"
   },
   "source": [
    "## **Exercise 2**\n",
    "\n",
    "Define the `rescale` function, which linearly scales an array given as the first parameter between the second and third parameters, numbers `a` and `b`, in such a way that the array's minimum will be equal to `a` and its maximum will be equal to `b`.\n",
    "\n",
    "E.g.:\n",
    "```\n",
    "arr = np.array([[2., 1.], [-2., 0.]])\n",
    "rescale(arr, -1., 1.) -> ndarray([[1., 0.5], [-1., 0.]])\n",
    "```"
   ]
  },
  {
   "cell_type": "code",
   "execution_count": null,
   "metadata": {
    "id": "9Y9jtqil1QWb"
   },
   "outputs": [],
   "source": [
    "# place of solution\n",
    "\n",
    "\n",
    "\n",
    "# Tests\n",
    "arr = np.array([[0.5, 1.2], [2.2, 1.0], [1.3, 0.9]])\n",
    "arr1 = rescale(arr, -2., 3.)\n",
    "assert np.allclose(arr1, np.array([[-2., 0.0588], [3., -0.529], [0.352, -0.823]]), atol=0.01)\n",
    "print(\"Tests were successful.\")"
   ]
  },
  {
   "cell_type": "markdown",
   "metadata": {
    "id": "B-egAyn17c8k"
   },
   "source": [
    "## **Exercise 3**\n",
    "\n",
    "Define the `rescale_independently` function, which independently and linearly scales the slices along axis 1 of the array given as the first parameter, between the second and third parameters, numbers `a` and `b`, in such a way that the array's minimum will be equal to `a` and its maximum will be equal to `b`. I.e. for the output 'r' array every `r[i,:]`, (i=1, ...) slice's minimum will be `a` and maximum will be `b`.\n",
    "\n",
    "E.g.:\n",
    "```\n",
    "arr = np.array([[2., 1., 0.], [-2., 0., 0.5]])\n",
    "rescale_independently(arr, -1., 1.) -> ndarray([[1., 0., -1.], [-1., 0.6, 1.]])\n",
    "```"
   ]
  },
  {
   "cell_type": "code",
   "execution_count": null,
   "metadata": {
    "id": "OqASCL-f8r8D"
   },
   "outputs": [],
   "source": [
    "# place of solution\n",
    "\n",
    "\n",
    "\n",
    "# Tests\n",
    "arr = np.array([[2., 1., 0.], [-2., 0., 0.5]])\n",
    "arr1 = rescale_independently(arr, -1., 1.)\n",
    "assert np.allclose(arr1, np.array([[1., 0., -1.], [-1., .6, 1.]]), atol=0.01)\n",
    "print(\"Tests were successful.\")"
   ]
  },
  {
   "cell_type": "markdown",
   "metadata": {
    "id": "uxyvkk_TAYdn"
   },
   "source": [
    "## **Exercise 4**\n",
    "\n",
    "Define the `standardize_independently` function, which takes an array as its parameter and independently standardizes the slices taken along the array's #1 index axis. To do this, we will subtract the average of each slice from their elements and then divide them by the slice's standard deviation. E.g. for a resulting 'r' array every `r[i,:]`, (i=1, ...) slice has an average of 0, and a standard deviation of 1.\n",
    "\n",
    "E.g.:\n",
    "```\n",
    "arr = np.array([[2., 1., 0.], [-2., 0., 0.5]])\n",
    "standardize_independently(arr) -> ndarray([[1.224, 0., -1.224], [-1.388, 0.462, 0.925]])\n",
    "```"
   ]
  },
  {
   "cell_type": "code",
   "execution_count": null,
   "metadata": {
    "id": "5rmDNCZNDQS9"
   },
   "outputs": [],
   "source": [
    "# place of solution\n",
    "\n",
    "\n",
    "\n",
    "# Tests\n",
    "arr = np.array([[2., 1., 0.], [-2., 0., 0.5]])\n",
    "arr1 = standardize_independently(arr)\n",
    "assert np.allclose(arr1, np.array([[1.224, 0., -1.224], [-1.388, 0.462, 0.925]]), atol=0.01)\n",
    "print(\"Tests were successful.\")"
   ]
  },
  {
   "cell_type": "markdown",
   "metadata": {
    "id": "qEWqo353EeIN"
   },
   "source": [
    "## **Exercise 5**\n",
    "\n",
    "Define the `one_hot` function, which converts category labels into one-hot encoded labels.\n",
    "\n",
    "During one-hot encoding, a `k` category label (which is an integer) is converted into an `n` length vector, where the number of categories is `n`. Every element of the vector will be 0 except for the k-th element. which has a value of 1. One-hot encoding is used in multiclass classification: for example, if we want to define what's on a photo. Let's assume that we have 3 categories: dog, cat, and parrot. Every photo contains exactly one of them, so we can assign one category label for each photo, for example, a 0 for dog, 1 for cat, 2 for parrot. If we classify a photo using machine learning methods, we don't typically predict the category label itself, but the likelihood that the photo shows either a dog, a cat, or a parrot. Using one-hot encoding we generate ground truth label vectors, with which we can train our model. If, for example, our image contains a parrot, then the assigned true label vector is `[0., 0., 1.]`, because there's 0 probability to contain a dog or a cat, and a probability of 1 for there to be a parrot on the image.\n",
    "\n",
    "The `one_hot` function, as its first `arr` parameter, takes a one-dimensional array of category labels, which it converts into one-hot encoding. The number of categories is given in the `n` parameter. The output is a 2-dimensional array, where `[i,:]` slice will be the input array's i-th element's one-hot encoding.\n",
    "\n",
    "E.g.:\n",
    "```\n",
    "arr = np.array([0, 2, 2, 1])\n",
    "one_hot(arr, 3) -> ndarray([[1., 0., 0.], [0., 0., 1.], [0., 0., 1.], [0., 1., 0.]])\n",
    "```"
   ]
  },
  {
   "cell_type": "code",
   "execution_count": null,
   "metadata": {
    "id": "E6gvD56qIJh7"
   },
   "outputs": [],
   "source": [
    "# place of solution\n",
    "\n",
    "\n",
    "\n",
    "# Tests\n",
    "arr = np.array([1, 2, 2, 1])\n",
    "arr1 = one_hot(arr, 3)\n",
    "assert np.allclose(arr1, np.array([[0., 1., 0.], [0., 0., 1.], [0., 0., 1.], [0., 1., 0.]]), atol=0.01)\n",
    "arr2 = one_hot(arr, 4)\n",
    "assert np.allclose(arr2, np.array([[0., 1., 0., 0.], [0., 0., 1., 0.], [0., 0., 1., 0.], [0., 1., 0., 0.]]), atol=0.01)\n",
    "print(\"Tests were successful.\")"
   ]
  },
  {
   "cell_type": "markdown",
   "metadata": {
    "id": "g3bhIzbxJN6c"
   },
   "source": [
    "## **Exercise 6**\n",
    "\n",
    "Define the `category_label` function, which takes multiple probability vectors and specifies the most probable category's index in each of them.\n",
    "\n",
    "In multiclass classification, the labels of the inputs are predicted to be in some `k` category. If we're using a neural network to predict them, we're typically predicting a vector containing probabilities, which represent the input's chance of belonging into each category. If from this vector, we'd like to specify which input belongs in what category based on the highest probability, we can just get the index of the maximum element. The `category_label` function, when given the output of the `one_hot` function, will reconstruct the `one_hot` function's original input.\n",
    "\n",
    "The `category_label` function takes a 2-dimensional array of probability vectors as its parameter. It specifies the most probable category's index for each probability vector (so the maximum element's index). The result is returned in a 1-dimensional array.\n",
    "\n",
    "E.g.:\n",
    "```\n",
    "arr = np.array([[1., 0., 0.], [0., 0., 1.], [0., 0., 1.], [0., 1., 0.]])\n",
    "category_label(arr) -> ndarray([0, 2, 2, 1])\n",
    "```"
   ]
  },
  {
   "cell_type": "code",
   "execution_count": null,
   "metadata": {
    "id": "B_sW43ohJM-1"
   },
   "outputs": [],
   "source": [
    "# place of solution\n",
    "\n",
    "\n",
    "\n",
    "# Tests\n",
    "arr = np.array([[0., 1., 0.], [0., 0., 1.], [0., 0., 1.], [0., 1., 0.]])\n",
    "arr1 = category_label(arr)\n",
    "assert np.allclose(arr1, np.array([1, 2, 2, 1]), atol=0.01)\n",
    "arr = np.array([[0.5, 0.3, 0.2], [0.09, 0.9, 0.01]])\n",
    "arr2 = category_label(arr)\n",
    "assert np.allclose(arr2, np.array([0., 1.]), atol=0.01)\n",
    "print(\"Tests were successful.\")"
   ]
  },
  {
   "cell_type": "markdown",
   "metadata": {
    "id": "foGuVPfiKBC_"
   },
   "source": [
    "## **Exercise 7**\n",
    "\n",
    "Define the `my_clip` function, which takes as its first parameter an arbitrary size and shape array `arr`, in which it clips all values smaller than a given number `a` to be equal to `a`, while clipping all values greater than a given number `b` to be equal to `b`. The `a` and `b` numbers are the function's second and third parameters.\n",
    "\n",
    "E.g.:\n",
    "```\n",
    "arr = np.array([[[5., 2., -5.], [4., 3., 1.]]])\n",
    "my_clip(arr, -2., 2.) -> ndarray([[[2., 2., -2.], [2., 2., 1.]]])\n",
    "```"
   ]
  },
  {
   "cell_type": "code",
   "execution_count": null,
   "metadata": {
    "id": "92DXf1o6LoMm"
   },
   "outputs": [],
   "source": [
    "# place of solution\n",
    "\n",
    "\n",
    "\n",
    "# Tests\n",
    "arr = np.array([[[5., 2., -5.], [4., 3., 1.]]])\n",
    "arr1 = my_clip(arr, -2., 2.)\n",
    "assert np.allclose(arr1, np.array([[[2., 2., -2.], [2., 2., 1.]]]), atol=0.01)\n",
    "print(\"Tests were successful.\")"
   ]
  },
  {
   "cell_type": "markdown",
   "metadata": {
    "id": "AxEpK5tkNM-_"
   },
   "source": [
    "## **Exercise 8**\n",
    "\n",
    "Define the `overwrite_interval` function, which as its first parameter takes an arbitrary sized and shaped `arr` array and overwrites all its values that are in the given [a,b] interval to be equal to `c`. The `a`, `b`, `c` numbers are given to the function as parameters.\n",
    "\n",
    "E.g.:\n",
    "```\n",
    "arr = np.array([[[5., 2., -5.], [4., 3., 1.]]])\n",
    "overwrite_interval(arr, -2., 2., 100.) -> ndarray([[[5., 100., -5.], [4., 3., 100.]]])\n",
    "```"
   ]
  },
  {
   "cell_type": "code",
   "execution_count": null,
   "metadata": {
    "id": "XYfmneZjN89S"
   },
   "outputs": [],
   "source": [
    "# place of solution\n",
    "\n",
    "\n",
    "\n",
    "# Tests\n",
    "arr = np.array([[[5., 2., -5.], [4., 3., 1.]]])\n",
    "arr1 = overwrite_interval(arr, -2., 2., 100.)\n",
    "assert np.allclose(arr1, np.array([[[5., 100., -5.], [4., 3., 100.]]]), atol=0.01)\n",
    "print(\"Tests were successful.\")"
   ]
  },
  {
   "cell_type": "markdown",
   "metadata": {
    "id": "yB4Gi9ogOm08"
   },
   "source": [
    "## **Exercise 9**\n",
    "\n",
    "Define the `get_elements_not_in_interval` function, which takes an arbitrary sized and shaped `arr` array as its first parameter, from which it returns all values outside the given [a, b] closed interval in a 1-dimensional array, by ascending order. Numbers `a` and `b` are given to the function as parameters.\n",
    "\n",
    "E.g.:\n",
    "```\n",
    "arr = np.array([[5.1, 2., -5.], [4., 3., 1.], [-2.5, 0., -0.1]])\n",
    "get_elements_not_in_interval(arr, -3., 3.) -> ndarray([-5., 4., 5.1])\n",
    "```"
   ]
  },
  {
   "cell_type": "code",
   "execution_count": null,
   "metadata": {
    "id": "5UQkXNu3PaUL"
   },
   "outputs": [],
   "source": [
    "# place of solution\n",
    "\n",
    "\n",
    "\n",
    "# Tests\n",
    "arr = np.array([[5.1, 2., -5.], [4., 3., 1.], [-2.5, 0., -0.1]])\n",
    "arr1 = get_elements_not_in_interval(arr, -3., 3.)\n",
    "assert np.allclose(arr1, np.array([-5., 4., 5.1]), atol=0.01)\n",
    "arr2 = get_elements_not_in_interval(arr, -10., 10.)\n",
    "assert arr2.shape == (0,)\n",
    "print(\"Tests were successful.\")"
   ]
  },
  {
   "cell_type": "markdown",
   "metadata": {
    "id": "lTeCb8KVRV5M"
   },
   "source": [
    "## **Exercise 10**\n",
    "\n",
    "Define the `sort_first_by_second` function, which takes a two-dimensional array of number pairs as its parameter, which has a size of (n, 2). The function returns all the number pairs' first elements in a 1-dimensional array, sorted in ascending order by their second elements.\n",
    "\n",
    "E.g.:\n",
    "```\n",
    "arr = np.array([[5.1, 2.], [4., 3.], [-2.5, 0.], [3.1, 7.], [1., -3.], [0., 6.]])\n",
    "sort_first_by_second(arr) -> ndarray([1., -2.5, 5.1, 4., 0., 3.1])\n",
    "```"
   ]
  },
  {
   "cell_type": "code",
   "execution_count": null,
   "metadata": {
    "id": "DrSLCE1WSf-M"
   },
   "outputs": [],
   "source": [
    "# place of solution\n",
    "\n",
    "\n",
    "\n",
    "# Tests\n",
    "arr = np.array([[5.1, 2.], [4., 3.], [-2.5, 0.], [3.1, 7.], [1., -3.], [0., 6.]])\n",
    "arr1 = sort_first_by_second(arr)\n",
    "assert np.allclose(arr1, np.array([1., -2.5, 5.1, 4., 0., 3.1]), atol=0.01)\n",
    "print(\"Tests were successful.\")"
   ]
  },
  {
   "cell_type": "markdown",
   "metadata": {
    "id": "DR2RVVzyTbC5"
   },
   "source": [
    "## **Exercise 11**\n",
    "\n",
    "Define the `get_local_extrema_idxs` function, which takes a one-dimensional array as its parameter. Treating the array's elements as a sequence, it returns the index of the elements which are strict local extrema. Strict local extrema are elements which are strictly lesser than both of their neighbours, or strictly greater than both their neighbours, and have neighbours on both sides.\n",
    "\n",
    "E.g.:\n",
    "```\n",
    "arr = np.array([1.2, 3.4, 2.5, 5.5, 6.7, 7.7, 7.7, 6.5, 5.2, 3.1, 4.4, 2.2, 1.1, 0.1])\n",
    "get_local_extrema_idxs(arr) -> ndarray([1, 2, 9, 10])\n",
    "```"
   ]
  },
  {
   "cell_type": "code",
   "execution_count": null,
   "metadata": {
    "id": "r3TBhK-tUxfJ"
   },
   "outputs": [],
   "source": [
    "# place of solution\n",
    "\n",
    "\n",
    "\n",
    "# Tests\n",
    "arr = np.array([1.2, 3.4, 2.5, 5.5, 6.7, 7.7, 7.7, 6.5, 5.2, 3.1, 4.4, 2.2, 1.1, 0.1])\n",
    "arr1 = get_local_extrema_idxs(arr)\n",
    "assert np.array_equal(np.sort(arr1), np.array([1, 2, 9, 10]))\n",
    "print(\"Tests were successful.\")"
   ]
  },
  {
   "cell_type": "markdown",
   "metadata": {
    "id": "CSIYvEZpdOvi"
   },
   "source": [
    "## **Exercise 12**\n",
    "\n",
    "Given is a `ts` time series, contains the monthly precipitation sum over 2 years. The time series is stored in a (24,) sized array.\n",
    "\n",
    "Define the `most_rainy_month_avg()` function, which takes the time series as its parameter, and returns the index of the month (between 0 and 11) which on average had the most precipitation over the two years.\n",
    "\n",
    "Define the `least_rainy_year()` function, which takes the time series as its parameter and returns the index of the year (0 or 1) which in sum had the least precipitation.\n"
   ]
  },
  {
   "cell_type": "code",
   "execution_count": null,
   "metadata": {
    "id": "KKcG27GAedwo"
   },
   "outputs": [],
   "source": [
    "# place of solution\n",
    "\n",
    "\n",
    "\n",
    "# Tests\n",
    "ts = np.array([15,30,62,93,77,61,45,32,16,34,28,14,9,22,82,115,65,75,38,19,26,47,22,31])\n",
    "assert most_rainy_month_avg(ts) == 4\n",
    "assert least_rainy_year(ts) == 1\n",
    "print(\"Tests were successful.\")"
   ]
  },
  {
   "cell_type": "markdown",
   "metadata": {
    "id": "stdSRE7sXOj1"
   },
   "source": [
    "# Advanced level exercises"
   ]
  },
  {
   "cell_type": "markdown",
   "metadata": {
    "id": "NS_RJdKRXo1F"
   },
   "source": [
    "## **Exercise 1**\n",
    "\n",
    "Define the `mult_table` function, which takes a number `n` as its parameter, and returns a two-dimensional, (n+1, n+1) sized array, containing the result of any `i*j` at its `[i, j]` index.\n",
    "\n",
    "E.g.:\n",
    "```\n",
    "mult_table(0) -> ndarray([[0]])\n",
    "mult_table(1) -> ndarray([[0, 0], [0, 1]])\n",
    "mult_table(2) -> ndarray([[0, 0, 0], [0, 1, 2], [0, 2, 4]])\n",
    " \n",
    "mult_table(6)[4][5] -> 20\n",
    "```"
   ]
  },
  {
   "cell_type": "code",
   "execution_count": null,
   "metadata": {
    "id": "K7ELiYp4XQYV"
   },
   "outputs": [],
   "source": [
    "# place of solution\n",
    "\n",
    "\n",
    "\n",
    "# Tests\n",
    "arr = np.array([1.2, 3.4, 2.5, 5.5, 6.7, 7.7, 7.7, 6.5, 5.2, 3.1, 4.4, 2.2, 1.1, 0.1])\n",
    "arr0 = mult_table(0)\n",
    "arr1 = mult_table(1)\n",
    "arr2 = mult_table(2)\n",
    "arr6 = mult_table(6)\n",
    "assert np.array_equal(arr0, np.array([[0]]))\n",
    "assert np.array_equal(arr1, np.array([[0,0],[0,1]]))\n",
    "assert np.array_equal(arr2, np.array([[0, 0, 0], [0, 1, 2], [0, 2, 4]]))\n",
    "assert arr6[4,5] == 20\n",
    "print(\"Tests were successful.\")"
   ]
  },
  {
   "cell_type": "markdown",
   "metadata": {
    "id": "u8JEpHuP4JSC"
   },
   "source": [
    "## **Exercise 2**\n",
    "\n",
    "Define `my_histogram` function, which generates the histogram of an array. The function takes two parameters. The `data` array contains numbers. The ordered `buckets` array specifies disjunct intervals that entirely cover the number line: its i-th element is the i-th interval's upper limit (exclusive), which is also the i+1-th interval's lower limit (inclusive). The last interval's upper limit is positive infinity. The function returns a `len(Buckets)+1` length array, which specifies how many elements of the `data` array are in each interval\n",
    "\n",
    "Note: the `np.histogram()` function solves this problem, however, it's worth trying to solve this exercise in a different manner.\n",
    "\n",
    "E.g.:\n",
    "```\n",
    "data = ndarray([1.5, 3.2, 2.2, 4.5, -6.1, 0.2, 18., 3.14, 1.12, 17.5, -4.6])\n",
    "buckets = ndarray([1., 2., 5., 10.])\n",
    "\n",
    "my_histogram(data, buckets) -> ndarray([[3, 2, 4, 0, 2]])\n",
    "```"
   ]
  },
  {
   "cell_type": "code",
   "execution_count": null,
   "metadata": {
    "id": "dLkom-Nb4JSJ"
   },
   "outputs": [],
   "source": [
    "# place of solution\n",
    "\n",
    "\n",
    "\n",
    "# Tests\n",
    "data = np.array([1.5, 3.2, 2.2, 4.5, -6.1, 0.2, 18., 3.14, 1.12, 17.5, -4.6])\n",
    "buckets = np.array([1., 2., 5., 10.])\n",
    "hist = my_histogram(data, buckets)\n",
    "assert np.array_equal(hist, np.array([3,2,4,0,2]))\n",
    "print(\"Tests were successful.\")"
   ]
  },
  {
   "cell_type": "markdown",
   "metadata": {
    "id": "ryB_WY79abC8"
   },
   "source": [
    "## **Exercise 3**\n",
    "\n",
    "Define the `triangle_area_perimeter` function. The function takes triplets and returns the indices of the triplets which can form a triangle when interpreted as the lengths of its edges. Along with the indices of the triplets that satisfy that condition, the function also returns each formed triangle's area and perimeter.\n",
    "\n",
    "It takes a parameter called `edges`, which is a (n_triples, 3) sized array that contains an *n_triples* number of float type triplets. The triplets are to be interpreted as the lengths of a triangle's sides.\n",
    "\n",
    "The function returns with the `valid_triangle_idxs, area parameter` arrays. The `valid_triangle_idxs` is an int type 1D array, which contains the indices of the triples that form a triangle when interpreted as the lengths of its edges, so it indexes the `edge` parameter array's 0-th axis. The `area_perimeter` 2-dimensional array stores the area and perimeter of the triangles that are formed by the triplets given in `valid_triangle_idxs`. The size of `area_perimeter` is thus equal on the 0-th axis to the length of `valid_triangle_idxs`, and the length of its first axis is 2, along which the triangles' area and perimeter are stored.\n",
    "\n",
    "The triangle's area can be gained from the lengths of its sides using Heron's formula.\n",
    "\n",
    "E.g.:\n",
    "```\n",
    "edges = np.array([[1., 2., -2.],\n",
    "                  [5., 3., 4.],\n",
    "                  [4., 2., 3.]])\n",
    "valid_triangle_idxs, area_perimeter = triangle_area_perimeter(edges)\n",
    "\n",
    "valid_triangle_idxs -> [1, 2]\n",
    "area_perimeter -> [[6., 12.], [2.904, 9.]]\n",
    "```"
   ]
  },
  {
   "cell_type": "code",
   "execution_count": null,
   "metadata": {
    "id": "XnhUp80Aa9ZT"
   },
   "outputs": [],
   "source": [
    "# place of solution\n",
    "\n",
    "\n",
    "\n",
    "# Tests\n",
    "edges = np.array([[1., 2., 0.],\n",
    "                  [0., 2., 1.],\n",
    "                  [2.3, -2., -5.5],\n",
    "                  [0., 0., 0.],\n",
    "                  [4., 2., 3.],\n",
    "                  [2., 3.01, 1.],\n",
    "                  [1., 1., 1.],\n",
    "                  [1., 1.99, 1.]])\n",
    "\n",
    "valid_triangle_idxs, area_perimeter = triangle_area_perimeter(edges)\n",
    "  \n",
    "assert valid_triangle_idxs.shape == (3,)\n",
    "assert np.all(valid_triangle_idxs == np.array([4,6,7]))\n",
    "assert area_perimeter.shape == (3,2)\n",
    "assert np.allclose(area_perimeter, np.array([[2.90473751, 9.],\n",
    "                                             [0.4330127, 3.],\n",
    "                                             [0.09937555, 3.99]]))\n",
    "print(\"Tests were successful.\")\n"
   ]
  },
  {
   "cell_type": "markdown",
   "metadata": {
    "id": "Pg06Nhr4cXjy"
   },
   "source": [
    "## **Exercise 4**\n",
    "\n",
    "There's a given `ts` time series, which contains the monthly precipitation sum over 2 years. The time series is stored in a (2, 12) size array: the 0-th axis indexes the years while the 1st axis indexes the months.\n",
    "\n",
    "Define the `most_rainy_month` function, which, taking the time series as a parameter, returns the rainiest month's index by year (0 or 1) and month (between 0 and 11). For example, if the rainiest month of the two years is the second's October, the function would return with the numbers 1 and 9.\n",
    "\n",
    "Define the `rainy_months` function, which returns the indices of the months by year (0 or 1) and month (between 0 and 11), which had more rain than the average precipitation sum over the 2 years. The function returns the index pairs in a 2-dimensional (n_rainy_months, 2) sized array, where `n_rainy_month` is the number of months from the two years, that satisfy the conditions above."
   ]
  },
  {
   "cell_type": "code",
   "execution_count": null,
   "metadata": {
    "id": "aSsiTE9ejl-H"
   },
   "outputs": [],
   "source": [
    "# place of solution\n",
    "\n",
    "\n",
    "\n",
    "# Tests\n",
    "ts = np.array([[15,30,62,93,77,61,45,32,16,34,28,14], [9,22,82,115,65,75,38,19,26,47,22,31]])\n",
    "assert most_rainy_month(ts) == (1, 3)\n",
    "arr1 = rainy_months(ts)\n",
    "assert np.array_equal(arr1, np.array([[0,2], [0,3], [0,4], [0,5], [0,6],\\\n",
    "                                      [1,2], [1,3], [1,4], [1,5], [1,9]]))\n",
    "print(\"Tests were successful.\")"
   ]
  },
  {
   "cell_type": "markdown",
   "metadata": {
    "id": "i-f42HfN5cXN"
   },
   "source": [
    "## **Exercise 5**\n",
    "\n",
    "Define the `find_closests` function, which takes two one-dimensional arrays as its parameters. The function returns a third one-dimensional array, which contains the elements of the second array (`to_replace`), but all replaced by the closest value to them found in the first array (`to_select`).\n",
    "\n",
    "E.g.:\n",
    "```\n",
    "to_select = np.array([10, 17, 31])\n",
    "to_replace = np.array([-2, 5, 34, -18, 21, 10, 14])\n",
    "\n",
    "find_closests(to_select, to_replace) -> ndarray([10, 10, 31, 10, 17, 10, 17])\n",
    "\n",
    "```\n"
   ]
  },
  {
   "cell_type": "code",
   "execution_count": null,
   "metadata": {
    "id": "bLzWDirb5cXs"
   },
   "outputs": [],
   "source": [
    "# place of solution\n",
    "\n",
    "\n",
    "\n",
    "# Tests\n",
    "my_to_select = np.array([15,23,17,8,9,2,31])\n",
    "my_to_replace = np.array([10,27,23,11,11,22,-2,51,23,10])\n",
    "my_closests = find_closests(my_to_select, my_to_replace)\n",
    "assert np.array_equal(my_closests, np.array([9, 23, 23, 9, 9, 23, 2, 31, 23, 9], dtype=np.int32))\n",
    "\n",
    "print(\"Tests were successful.\")"
   ]
  }
 ],
 "metadata": {
  "colab": {
   "collapsed_sections": [],
   "name": "Numpy exercises.ipynb",
   "provenance": [],
   "toc_visible": true
  },
  "kernelspec": {
   "display_name": "Python 3 (ipykernel)",
   "language": "python",
   "name": "python3"
  },
  "language_info": {
   "codemirror_mode": {
    "name": "ipython",
    "version": 3
   },
   "file_extension": ".py",
   "mimetype": "text/x-python",
   "name": "python",
   "nbconvert_exporter": "python",
   "pygments_lexer": "ipython3",
   "version": "3.8.4"
  }
 },
 "nbformat": 4,
 "nbformat_minor": 1
}
