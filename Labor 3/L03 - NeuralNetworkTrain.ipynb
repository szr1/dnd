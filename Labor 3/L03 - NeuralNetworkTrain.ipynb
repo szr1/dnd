{
 "cells": [
  {
   "cell_type": "markdown",
   "metadata": {},
   "source": [
    "# Labor 03 - Training neural networks"
   ]
  },
  {
   "cell_type": "markdown",
   "metadata": {},
   "source": [
    "### A theoretical overview\n",
    "\n",
    "A biological neuron: \n",
    "<img src=\"files/Pics/L03_Neuron_02.png\" width=450>\n",
    "\n",
    "Most common artificial neuron model:\n",
    "<img src=\"files/Pics/L03_Neuron_01.png\" width=450>\n",
    "\n",
    ",were <br>\n",
    "$x_{n}$ - inputs and $x_{0} = 1$ - the BIAS  <br>\n",
    "$w_{n}$ - the weights <br>\n",
    "$s$ - the weighted sum of the inputs <br>\n",
    "$a$ - activation function (e.g. ReLU, sigmoid) <br>\n",
    "$y$ - output <br>\n",
    "\n",
    "\n",
    "\n",
    "This specific neural model is called Perceptron.\n",
    "\n",
    "The arrangement of neurons in a multi-layered network is called Multi Layer Perceptron (MLP). In general, the connected arrangement of artificial neuron models is called Artificial Neural Network (ANN).\n",
    "\n",
    "#### Multi Layer Perceptron\n",
    "\n",
    "Let's examine the following architecture:\n",
    "\n",
    "<img src=\"files/Pics/L03_NeuralNet.png\" width=350>\n",
    "\n",
    "The illustrated case consists of an input layer, a hidden layer and an output layer. The input layer contains 2 neurons without BIAS, the hidden layer contains 3 neurons without BIAS and the output layer consists of 1 neuron. BIAS members can be added layer by layer in the model and are connected to the next layer element with an appropriate weight.\n",
    "\n",
    "Main types of neural networks:\n",
    "\n",
    "Based on connection direction: Feedforward -, Recurrent -, Cellular NN\n",
    "\n",
    "Based on connection density: Fully Connected and Partially Connected NN"
   ]
  },
  {
   "cell_type": "markdown",
   "metadata": {},
   "source": [
    "### 1: Data loading \n",
    "Import the packages and load the data"
   ]
  },
  {
   "cell_type": "code",
   "execution_count": 1,
   "metadata": {},
   "outputs": [
    {
     "name": "stdout",
     "output_type": "stream",
     "text": [
      "Shape of X and y in order:\n",
      "(5000, 400)\n",
      "(5000, 1)\n",
      "Shape of w1 and w2 in order:\n",
      "(25, 401)\n",
      "(10, 26)\n"
     ]
    }
   ],
   "source": [
    "import numpy as np\n",
    "import matplotlib.pyplot as plt\n",
    "from scipy.io import loadmat\n",
    "\n",
    "data = loadmat(\"Lab3data.mat\")                      # load the data\n",
    "X = data[\"X\"]\n",
    "y = data [\"y\"] \n",
    "del data\n",
    "m = X.shape[0]\n",
    "print('Shape of X and y in order:')\n",
    "print(X.shape)\n",
    "print(y.shape)\n",
    "\n",
    "data = loadmat(\"Lab3Weights.mat\")  \n",
    "w1 = np.array(data[\"Theta1\"])\n",
    "w2 = np.array(data[\"Theta2\"])     \n",
    "print('Shape of w1 and w2 in order:')\n",
    "print(w1.shape)\n",
    "print(w2.shape)\n",
    "del data"
   ]
  },
  {
   "cell_type": "markdown",
   "metadata": {},
   "source": [
    "### 2: Data visualization"
   ]
  },
  {
   "cell_type": "code",
   "execution_count": 2,
   "metadata": {},
   "outputs": [
    {
     "name": "stdout",
     "output_type": "stream",
     "text": [
      "Printing some random data ...\n"
     ]
    },
    {
     "data": {
      "image/png": "[encoded data removed]",
      "text/plain": [
       "<Figure size 600x600 with 36 Axes>"
      ]
     },
     "metadata": {},
     "output_type": "display_data"
    }
   ],
   "source": [
    "print(\"Printing some random data ...\")                              \n",
    "fig, ax = plt.subplots(6,6, figsize =(6,6))                  # subplots - 6x6 8x8 image size\n",
    "for i in range(6):\n",
    "    for j in range(6):\n",
    "        ax[i,j].imshow(X[np.random.randint(0,m+1),:].reshape(20,20, order = \"F\"), cmap=\"hot\")\n",
    "        ax[i,j].axis(\"off\")\n",
    "plt.show()"
   ]
  },
  {
   "cell_type": "markdown",
   "metadata": {},
   "source": [
    "### 3. Theoretical overview\n",
    "\n",
    "For easier understanding, consider the following simple example."
   ]
  },
  {
   "cell_type": "markdown",
   "metadata": {},
   "source": [
    "<img src=\"files/Pics/L03_Network.png\">"
   ]
  },
  {
   "cell_type": "markdown",
   "metadata": {},
   "source": [
    "The outlined neural network consists of 3 layers:\n",
    "- Input layer, which contains 2 input neurons plus the added BIAS.\n",
    "- Hidden layer, which contains 3 neurons plus BIAS.\n",
    "- Output layer, which contains 3 neurons, of which the maximum is selected to get the actual output.\n",
    "\n",
    "\n",
    "Let use the following notations: <br>\n",
    "$a^{(j)}_{i}$ - the activation of neuron i in layer j <br>\n",
    "$s^{(j)}_{i}$ - the weighted sum of neuron i in layer j <br>\n",
    "$w^{(j)}_{lk}$ - the weight between neuron i in layer j and neuron k in layer j+1 <br>\n",
    "$x^{(m)}_{n}$ - parameter n of the m input sample. ($x^{(1)}_0 = 1)$ is the BIAS<br> \n",
    "$\\hat y$ - the prediction\n",
    "\n",
    "First the foward process: <br>\n",
    "- Attach the BIOS value to $x^{(1)}$\n",
    "- Calculate the weighted sum  $ \\underset{1\\times 3}{\\mathrm{x^{(1)}}} \\times \\underset{3\\times 3}{\\mathrm{w^{(1)}}} = \\underset{1\\times 3}{\\mathrm{s^{(2)}}} $\n",
    "- calculate the activations $ \\underset{\\color{red}{1\\times 3}}{\\mathrm{a^{(2)}}} = f(\\underset{1\\times 3}{\\mathrm{s^{(2)}}}) = ReLU(\\underset{1\\times 3}{\\mathrm{s^{(2)}}}) $ \n",
    "- Attach the BIOS value to the hiden layer $ \\underset{\\color{red}{1\\times 4}}{\\mathrm{a^{(2)}}} \\times \\underset{4\\times 3}{\\mathrm{w^{(2)}}} = \\underset{1\\times 3}{\\mathrm{s^{(3)}}}  $\n",
    "- calculate the activations for the output $ \\underset{1\\times 3}{\\mathrm{a^{(3)}}} = f(\\underset{1\\times 3}{\\mathrm{s^{(3)}}}) = ReLU(\\underset{1\\times 3}{\\mathrm{s^{(3)}}}) $\n",
    "- prediction $ \\underset{1\\times 3}{\\mathrm{\\hat{y}}} = \\underset{1\\times 3}{\\mathrm{a^{(3)}}} $\n",
    "- choose the maximum value with $ argmax() $"
   ]
  },
  {
   "cell_type": "markdown",
   "metadata": {},
   "source": [
    "#### Cost function\n",
    "\n",
    "We use the Mean Square Error (MSE) method as a cost function. Let's look at the error backpropagation process starting from the output neuron. \n",
    "<br>\n",
    "\n",
    "$ C = \\sum\\{\\frac{1}{2}(y-\\color{red}{\\hat y})^2 \\} $\n",
    "\n",
    "$ C = \\sum\\{\\frac{1}{2}(y-{\\color{red}{a^{(3)}}})^2 \\} $\n",
    "\n",
    "$ C = \\sum\\{\\frac{1}{2}(y-f({\\color{red}{s^{(3)}}}))^2\\} $\n",
    "\n",
    "$ C = \\sum\\{\\frac{1}{2}(y-f({\\color{red}{a^{(2)}}}w^{(2)}))^2\\} $\n",
    "\n",
    "$ C = \\sum\\{\\frac{1}{2}(y-f(f({\\color{red}{s^{(2)}}})w^{(2)}))^2\\}$\n",
    "\n",
    "$ C = \\sum\\{\\frac{1}{2}(y-f(f(xw^{(1)})w^{(2)}))^2\\} $\n",
    "\n",
    "The error calculation can therefore be traced back to the function of the input variables and the weights in the network. The formula can be applied to any number of layers."
   ]
  },
  {
   "cell_type": "markdown",
   "metadata": {},
   "source": [
    "#### Training (Back Propagation)\n",
    "During error backpropagation, starting from the output layer, we calculate backwards how much each neuron contributes to the error. In practice, the steps used in the calculation of the cost function must be completed in half, which means that we will need the derivative of the activation function. <br>"
   ]
  },
  {
   "cell_type": "markdown",
   "metadata": {},
   "source": [
    "##### clipped ReLU function and its derivative\n",
    "\n",
    "\\begin{split}\n",
    "g(z)=\\begin{cases}\n",
    "    0, & \\text{if $x<0$}.\\\\\n",
    "    1, & \\text{if $x>1$}.\\\\\n",
    "    z, & \\text{otherwise}.\n",
    "  \\end{cases} \n",
    "\\end{split}\n",
    "\\begin{split}\n",
    "g'(z) = \\begin{cases}\n",
    "    0, & \\text{if $x<0$}.\\\\\n",
    "    0, & \\text{if $x>1$}.\\\\\n",
    "    1, & \\text{otherwise}.\\\\\n",
    "  \\end{cases}\n",
    "\\end{split}\n",
    "\n",
    "<img src=\"files/Pics/L03_clippedReLUDeriv.png\" width=800>"
   ]
  },
  {
   "cell_type": "markdown",
   "metadata": {},
   "source": [
    "The error can be backpropagated, by partially deriving the cost function according to the elements of the corresponding weight matrix, we get the decreasing error direction in the neurons of the hidden layer.\n",
    "\n",
    "$ \\begin{split}\n",
    "\\frac{\\partial C}{\\partial w^{(2)}} = \\frac{\\partial \\sum \\frac{1}{2}(y-\\hat{y})^2}{\\partial w^{(2)}} = \\sum (\\frac{\\partial \\frac{1}{2}(y-\\hat{y})^2}{\\partial w^{(2)}}) \n",
    "\\end{split}$\n",
    "\n",
    "For easier understanding, we define the derivation for one element. <br>\n",
    "\n",
    "$\n",
    "\\begin{split}\n",
    "\\frac{\\partial \\frac{1}{2}(y-\\hat{y})^2}{\\partial w^{(2)}} \n",
    "& = (y-\\hat{y})(-\\frac{\\hat{y}}{\\partial w^{(2)}}) \\\\\n",
    "& = -(y-\\hat{y}) \\cdot \\frac{\\partial \\hat{y}}{\\partial s^{(3)}}\\cdot \\frac{\\partial \ts^{(3)}}{\\partial w^{(2)}}\\\\\t\n",
    "& = \\color{red}{-(y-\\hat{y}) \\cdot f'(s^{(3)})}\\cdot\n",
    "\\frac{\\partial a^{(2)}w^{(2)}}{\\partial w^{(2)}}\\\\\n",
    "& = {\\color{red} {\\delta^{(3)}}\\cdot a^{(2)}}\n",
    "\\end{split}\n",
    "$<br>\n",
    "\n",
    "Let $ \\delta^{(j)}_{i} $ be the error component for neuron i in layer j. <br>\n",
    "In matrix form, we get the following formula: <br>\n",
    "$ (a^{(2)})^T \\delta^{(3)} $\n"
   ]
  },
  {
   "cell_type": "markdown",
   "metadata": {},
   "source": [
    "#### Training\n",
    "During the training phase, the weights are changed using the Gradient Descent method, as previously learned. The ANN parameters are updated step by step backwards from the very last layer to the very first, using the chain rule. For the weight modification, we need to define a learning rate $(\\mu)$ and we can optionally specify the penalty term.  <br>\n",
    "\n",
    "$ w^{(1)} = w^{(1)} - \\mu \\frac{\\partial C}{w^{(1)}}+ regularization $\n",
    "\n",
    "$ w^{(2)} = w^{(2)} - \\mu \\frac{\\partial C}{w^{(2)}}+ regularization $"
   ]
  },
  {
   "cell_type": "markdown",
   "metadata": {},
   "source": [
    "#### Steps of the process \n",
    "\n",
    "1, $\\hspace{2mm} xw^{(1)} = s^{(2)} $\n",
    "\n",
    "2, $\\hspace{14mm} f(s^{(2)}) = a^{(2)}$ \n",
    "\n",
    "3, $\\hspace{32mm} a^{(2)} w^{(2)} = s^{(3)} $\n",
    "\n",
    "4, $\\hspace{48mm} f(s^{(3)}) = \\hat{y} $\n",
    "\n",
    "5, $\\hspace{2mm} C = \\sum\\{\\frac{1}{2}(y-\\hat y)^2 \\} $\n",
    "\n",
    "6, $\\hspace{2mm} -(y-\\hat{y}) \\cdot f'(s^{(3)}) = \\delta^{(3)} $\n",
    "\n",
    "7, $\\hspace{28mm} (a^{(2)})^T \\delta^{(3)} =  \\frac{\\partial C}{\\partial w^{(2)}} $\n",
    "\n",
    "8, $\\hspace{39mm} \\delta ^{(3)} \\cdot (w^{(2)})^T \\cdot f'(s^{(2)})= \\delta ^{(2)} $\n",
    "\n",
    "9, $\\hspace{78mm} x^T \\delta^{(2)} =  \\frac{\\partial C}{\\partial w^{(1)}} $\n",
    "\n",
    "10, $\\hspace{2mm} w^{(1)} = w^{(1)} - \\mu \\frac{\\partial C}{w^{(1)}}+ regularization $\n",
    "\n",
    "$\\hspace{8mm}w^{(2)} = w^{(2)} - \\mu \\frac{\\partial C}{w^{(2)}}+ regularization $"
   ]
  },
  {
   "cell_type": "markdown",
   "metadata": {},
   "source": [
    "### 3: Parameter initialisation"
   ]
  },
  {
   "cell_type": "code",
   "execution_count": 3,
   "metadata": {},
   "outputs": [],
   "source": [
    "input_layer_size = 400                                  # Input size\n",
    "hidden_layer_size = 25                                  # Hidden layer size\n",
    "num_labels = 10                                         # Output size"
   ]
  },
  {
   "cell_type": "markdown",
   "metadata": {},
   "source": [
    "The tracking of the architecture is more transparent if the neuron numbers of each layer are stored without the BIAS members. The dimensions of the matrices can be reset based on the neuron numbers of each layer. Furthermore, we will need the learning rate as a preset parameter."
   ]
  },
  {
   "cell_type": "markdown",
   "metadata": {},
   "source": [
    "### 4: Cost function\n",
    "Activation function and its derivative.  Try different activation functions and see the difference."
   ]
  },
  {
   "cell_type": "code",
   "execution_count": 4,
   "metadata": {},
   "outputs": [],
   "source": [
    "def clippedReLU(z): \n",
    "    g=(z>0).astype(np.float32)*z \n",
    "    g[z > 1] = 1\n",
    "    return g\n",
    "\n",
    "def clippedReLUGradient(z):\n",
    "    g_deriv=(z>0).astype(np.float32)\n",
    "    g_deriv[z>1]=0\n",
    "    return g_deriv"
   ]
  },
  {
   "cell_type": "markdown",
   "metadata": {},
   "source": [
    "##### One Hot Encoding\n",
    "\n",
    "To match the output of the neural network, we will need a little more transformation. We gave the labels of the samples with a number, but we are working on a 10-group classification problem. Accordingly, we will have 10 output neurons, which will indicate the probability that the given sample belongs to a given class. We will therefore define the predicted class on the basis of the highest probability. For this conversion, we will use the One Hot Encoding method (only one 1). The essence of the method is to convert each label into a vector whose number of elements is the same as the number of classes and contains only one 1 in the column of the corresponding class.\n",
    "\n",
    "Our original labels are the numbers 0-9 (left side), the vectors of our corresponding converted labels (right side). Note that the transformed label vectors look very similar to a unit matrix when arranged.\n",
    "\n",
    "<img src=\"files/Pics/L03_OneHot.png\" width=300>"
   ]
  },
  {
   "cell_type": "code",
   "execution_count": 5,
   "metadata": {},
   "outputs": [],
   "source": [
    "def nnCostFunction(nn_params, input_layer_size, hidden_layer_size, num_labels, X, y, Lambda):\n",
    "    # nn_params factoring w1 and w2 into matrices\n",
    "    w1 = nn_params[:((input_layer_size + 1) * hidden_layer_size)].reshape(hidden_layer_size, input_layer_size + 1)\n",
    "    w2 = nn_params[((input_layer_size + 1) * hidden_layer_size):].reshape(num_labels, hidden_layer_size + 1)\n",
    "\n",
    "    m = X.shape[0]\n",
    "    C = 0\n",
    "    w1_grad = np.zeros((w1.shape))\n",
    "    w2_grad = np.zeros((w2.shape))\n",
    "\n",
    "    # Forward Step\n",
    "    A1_B = np.hstack((np.ones((m, 1)), X))                # input and BIAS\n",
    "    S2   = A1_B @ w1.T                                    # hiden layer\n",
    "    A2   = clippedReLU(S2)\n",
    "    A2_B = np.hstack((np.ones((A2.shape[0], 1)), A2))     \n",
    "    S3   = A2_B @ w2.T                                    # output\n",
    "    A3   = clippedReLU(S3)\n",
    "    \n",
    "    y_hat = A3\n",
    "    \n",
    "    # ONE HOT ENCODING (y to Y)\n",
    "    Y = np.zeros((m, num_labels))\n",
    "    I = np.eye(num_labels)\n",
    "\n",
    "    for i in range(1, m+1):\n",
    "        Y[i-1, :] = I[y[i-1]-1, :]\n",
    "\n",
    "    #Penalty The penalty contains an L2 norm weight regularisation.\n",
    "    penalty  = (Lambda / (2 * m)) *   ((np.sum(w1[:, 1:] ** 2)) + np.sum(w2[:,1:]**2)) \n",
    "    \n",
    "    # Cost Function multi class cross entropy\n",
    "    C = (1/m) * (np.sum((-Y)*np.log(y_hat+1e-7)-((1-Y)*np.log(1+1e-7-y_hat)))) + penalty\n",
    "\n",
    "    # Back Propagation\n",
    "    sigma3 = y_hat - Y\n",
    "    sigma3 = sigma3 * clippedReLUGradient(S3)\n",
    "    sigma2 = (sigma3 @ w2) * clippedReLUGradient(np.hstack((np.ones([S2.shape[0],1]), S2)))    \n",
    "    sigma2 = sigma2[:, 1:]\n",
    "    \n",
    "    delta_1 = (sigma2.T @ A1_B)\n",
    "    delta_2 = (sigma3.T @ A2_B)\n",
    "    \n",
    "    p1 = (Lambda/m) * np.hstack((np.zeros((w1.shape[0], 1)), w1[:, 1:]))\n",
    "    p2 = (Lambda/m) * np.hstack((np.zeros((w2.shape[0], 1)), w2[:, 1:]))\n",
    "\n",
    "    w1_grad = delta_1 / m + p1\n",
    "    w2_grad = delta_2 / m + p2\n",
    "    grad = np.append(w1_grad.flatten(), w2_grad.flatten())\n",
    "\n",
    "    return C, grad"
   ]
  },
  {
   "cell_type": "markdown",
   "metadata": {},
   "source": [
    "### 5: Initial weights\n",
    "\n",
    "The initial weights are initialized with a normal distribution with a specified deviation. Try different weight initializations and see the difference."
   ]
  },
  {
   "cell_type": "code",
   "execution_count": 6,
   "metadata": {},
   "outputs": [],
   "source": [
    "def randInitializeWeights(L_in, L_out):\n",
    "    epsilon_init = 0.1\n",
    "    W = np.random.randn(L_out,L_in+1)*(epsilon_init)\n",
    "    return W"
   ]
  },
  {
   "cell_type": "code",
   "execution_count": 7,
   "metadata": {},
   "outputs": [],
   "source": [
    "initial_w1 = randInitializeWeights(input_layer_size,hidden_layer_size)\n",
    "initial_w2 = randInitializeWeights(hidden_layer_size,num_labels)\n",
    "initial_nn_params = np.append(initial_w1.flatten(),initial_w2.flatten())"
   ]
  },
  {
   "cell_type": "markdown",
   "metadata": {},
   "source": [
    "### 6: Gradient descent\n",
    "\n",
    "To train the network, we implement the gradient descent method."
   ]
  },
  {
   "cell_type": "code",
   "execution_count": 8,
   "metadata": {},
   "outputs": [],
   "source": [
    "def gradientDescentnn(X, y, initial_nn_params, lr, lr_decrease, num_iters, Lambda, input_layer_size, hidden_layer_size,\n",
    "                      num_labels):\n",
    "\n",
    "    w1 = initial_nn_params[:((input_layer_size + 1) * hidden_layer_size)].reshape(hidden_layer_size, input_layer_size + 1)\n",
    "    w2 = initial_nn_params[((input_layer_size + 1) * hidden_layer_size):].reshape(num_labels, hidden_layer_size + 1)\n",
    "\n",
    "    m = len(y)\n",
    "    C_history = []\n",
    "    for i in range(num_iters):\n",
    "        #DISPLAY \n",
    "        if (i%50==0):\n",
    "            print('Iteration:', i)\n",
    "        elif (i==num_iters-1):\n",
    "            print('Done!')\n",
    "        \n",
    "        nn_params = np.append(w1.flatten(), w2.flatten())\n",
    "        C, grad = nnCostFunction(nn_params, input_layer_size, hidden_layer_size, num_labels, X, y, Lambda)\n",
    "        \n",
    "        w1_grad = grad[:((input_layer_size+1) * hidden_layer_size)].reshape(hidden_layer_size,input_layer_size+1)\n",
    "        w2_grad = grad[((input_layer_size +1)* hidden_layer_size ):].reshape(num_labels,hidden_layer_size+1)\n",
    "        \n",
    "        lr=lr*(1-lr_decrease)\n",
    "        \n",
    "        w1 = w1 - (lr * w1_grad)\n",
    "        w2 = w2 - (lr * w2_grad)\n",
    "        # save the training process\n",
    "        C_history.append(C)\n",
    "\n",
    "    nn_paramsFinal = np.append(w1.flatten(), w2.flatten())\n",
    "    return nn_paramsFinal, C_history"
   ]
  },
  {
   "cell_type": "code",
   "execution_count": 9,
   "metadata": {},
   "outputs": [
    {
     "name": "stdout",
     "output_type": "stream",
     "text": [
      "Iteration: 0\n",
      "Iteration: 50\n",
      "Iteration: 100\n",
      "Iteration: 150\n",
      "Iteration: 200\n",
      "Iteration: 250\n",
      "Iteration: 300\n",
      "Iteration: 350\n",
      "Iteration: 400\n",
      "Iteration: 450\n",
      "Iteration: 500\n",
      "Iteration: 550\n",
      "Iteration: 600\n",
      "Iteration: 650\n",
      "Iteration: 700\n",
      "Iteration: 750\n",
      "Done!\n"
     ]
    }
   ],
   "source": [
    "# Setting training parameters\n",
    "Lambda = 0             # Penalty\n",
    "lr = 0.1               # learning rate\n",
    "lr_decrease=1e-2       # learning rate\n",
    "num_iter = 800\n",
    "\n",
    "nnw, nnC_history = gradientDescentnn(X,y,initial_nn_params,lr,lr_decrease,num_iter,Lambda,input_layer_size,hidden_layer_size,num_labels)\n",
    "w1 = nnw[:((input_layer_size+1) * hidden_layer_size)].reshape(hidden_layer_size,input_layer_size+1)\n",
    "w2 = nnw[((input_layer_size +1)* hidden_layer_size ):].reshape(num_labels,hidden_layer_size+1)"
   ]
  },
  {
   "cell_type": "markdown",
   "metadata": {},
   "source": [
    "We can experiment with the parameters of the run (Lambda, learning rate, number of iterations).\n",
    "\n",
    "To check the success of the given training, let's implement a predictor function, which performs the Forward Step and converts the result back to its original form."
   ]
  },
  {
   "cell_type": "code",
   "execution_count": 10,
   "metadata": {},
   "outputs": [],
   "source": [
    "def predict(w1,w2,X):\n",
    "    m = X.shape[0]\n",
    "    #Forward step\n",
    "    A1 = np.column_stack((np.ones((m,1)),X))\n",
    "    S2 = A1 @ w1.T\n",
    "    A2 = np.column_stack((np.ones((m,1)),clippedReLU(S2)))\n",
    "    S3 = A2 @ w2.T\n",
    "    A3 = clippedReLU(S3)\n",
    "    \n",
    "    p = np.argmax(A3,axis=1)+1\n",
    "    return p"
   ]
  },
  {
   "cell_type": "markdown",
   "metadata": {},
   "source": [
    "Let's examine the accuracy of the Model, that is, examine how many of all the samples it correctly guessed. Based on the data, we return the accuracy of the model in percentage."
   ]
  },
  {
   "cell_type": "code",
   "execution_count": 11,
   "metadata": {},
   "outputs": [],
   "source": [
    "def accuracy(pred,y):\n",
    "    acc = (np.mean(pred[:,np.newaxis]==y))*100\n",
    "    return acc"
   ]
  },
  {
   "cell_type": "code",
   "execution_count": 12,
   "metadata": {},
   "outputs": [
    {
     "name": "stdout",
     "output_type": "stream",
     "text": [
      "Training Set Accuracy after 800 iteration (currently trained weights): 31.94 %\n",
      "Training Set Accuracy after 800 iterations with different activation and weight initialization (loaded weights): 92.62 %\n"
     ]
    }
   ],
   "source": [
    "pred = predict(w1,w2,X)\n",
    "acc = accuracy(pred,y)\n",
    "\n",
    "print('Training Set Accuracy after %.0f iteration (currently trained weights): %.2f %%' % (num_iter,acc))\n",
    "\n",
    "w1_r = np.loadtxt(\"w1_final.txt\")\n",
    "w2_r = np.loadtxt(\"w2_final.txt\")\n",
    "\n",
    "pred_800 = predict(w1_r,w2_r,X)\n",
    "acc_800 = accuracy(pred_800,y)\n",
    "print('Training Set Accuracy after 800 iterations with different activation and weight initialization (loaded weights): %.2f %%' % acc_800)"
   ]
  },
  {
   "cell_type": "markdown",
   "metadata": {},
   "source": [
    "### 7: Learning process\n",
    "Let's examine the process of the training by plotting the cost function per interaction. "
   ]
  },
  {
   "cell_type": "code",
   "execution_count": 13,
   "metadata": {},
   "outputs": [
    {
     "data": {
      "image/png": "[encoded data removed]",
      "text/plain": [
       "<Figure size 640x480 with 1 Axes>"
      ]
     },
     "metadata": {},
     "output_type": "display_data"
    },
    {
     "data": {
      "image/png": "[encoded data removed]",
      "text/plain": [
       "<Figure size 640x480 with 1 Axes>"
      ]
     },
     "metadata": {},
     "output_type": "display_data"
    }
   ],
   "source": [
    "plt.plot(nnC_history)\n",
    "plt.xlabel('Iteration')\n",
    "plt.ylabel('Cost function')\n",
    "plt.title('Cost function over the iterations (Current params)')\n",
    "plt.show()\n",
    "\n",
    "nnC_history_load=np.loadtxt(\"nnC_history_800.txt\")\n",
    "plt.plot(nnC_history_load)\n",
    "plt.xlabel('Iteration')\n",
    "plt.ylabel('Cost function')\n",
    "plt.title('Cost function over the iterations (Loaded params)')\n",
    "plt.show()"
   ]
  },
  {
   "cell_type": "markdown",
   "metadata": {},
   "source": [
    "### Homework: Try different activation functions, weight initialization, and other parameters."
   ]
  },
  {
   "cell_type": "markdown",
   "metadata": {},
   "source": [
    "<div style=\"text-align: right\">This notebook is a modified version of a Computational Intelligence course notebook. </div>"
   ]
  }
 ],
 "metadata": {
  "kernelspec": {
   "display_name": "Python 3 (ipykernel)",
   "language": "python",
   "name": "python3"
  },
  "language_info": {
   "codemirror_mode": {
    "name": "ipython",
    "version": 3
   },
   "file_extension": ".py",
   "mimetype": "text/x-python",
   "name": "python",
   "nbconvert_exporter": "python",
   "pygments_lexer": "ipython3",
   "version": "3.11.4"
  }
 },
 "nbformat": 4,
 "nbformat_minor": 2
}
